{
  "nbformat": 4,
  "nbformat_minor": 0,
  "metadata": {
    "colab": {
      "name": "PDF Generator (Test).ipynb",
      "provenance": [],
      "collapsed_sections": []
    },
    "kernelspec": {
      "name": "python3",
      "display_name": "Python 3"
    }
  },
  "cells": [
    {
      "cell_type": "code",
      "metadata": {
        "id": "440wmvy8YAB5",
        "outputId": "7bc25a02-fd6e-4dba-d0dc-bfb162335412",
        "colab": {
          "base_uri": "https://localhost:8080/"
        }
      },
      "source": [
        "pip install fpdf"
      ],
      "execution_count": 2,
      "outputs": [
        {
          "output_type": "stream",
          "text": [
            "Collecting fpdf\n",
            "  Downloading https://files.pythonhosted.org/packages/37/c6/608a9e6c172bf9124aa687ec8b9f0e8e5d697d59a5f4fad0e2d5ec2a7556/fpdf-1.7.2.tar.gz\n",
            "Building wheels for collected packages: fpdf\n",
            "  Building wheel for fpdf (setup.py) ... \u001b[?25l\u001b[?25hdone\n",
            "  Created wheel for fpdf: filename=fpdf-1.7.2-py2.py3-none-any.whl size=40721 sha256=6dea6c4471b6ea6ba4d7bcaaef4ce012541326d6903d6b4a221ef8e14c7cea6f\n",
            "  Stored in directory: /root/.cache/pip/wheels/9a/e9/77/4554ff5c99bc3f487c8d69620d8c41d99d54e9c54ab20ef4c9\n",
            "Successfully built fpdf\n",
            "Installing collected packages: fpdf\n",
            "Successfully installed fpdf-1.7.2\n"
          ],
          "name": "stdout"
        }
      ]
    },
    {
      "cell_type": "code",
      "metadata": {
        "id": "wEmWSABmYD6I"
      },
      "source": [
        "from fpdf import FPDF "
      ],
      "execution_count": 3,
      "outputs": []
    },
    {
      "cell_type": "code",
      "metadata": {
        "id": "Y8JxHdWtYpug"
      },
      "source": [
        "name = 'Tanvi'\n",
        "dob = '01-01-2002'\n",
        "school = 'ABC'\n",
        "clas = 10"
      ],
      "execution_count": 6,
      "outputs": []
    },
    {
      "cell_type": "code",
      "metadata": {
        "id": "GBfdejlYX46H",
        "outputId": "00d76a4a-148c-48ef-e633-9369419997ee",
        "colab": {
          "base_uri": "https://localhost:8080/",
          "height": 35
        }
      },
      "source": [
        "pdf = FPDF() \n",
        "\n",
        "pdf.add_page() \n",
        "\n",
        "pdf.set_font(\"Arial\") \n",
        "\n",
        "pdf.cell(200, 20, txt = \"Informal Educational Assessment Report\",  \n",
        "         ln = 1, align = 'C') \n",
        "\n",
        "pdf.cell(200, 10, txt = \"Name: \"+name, \n",
        "         ln = 2, align = 'L')\n",
        "pdf.cell(200, 10, txt = \"DOB: \"+dob, \n",
        "         ln = 2, align = 'L') \n",
        "pdf.cell(200, 10, txt = 'School: '+school, \n",
        "         ln = 2, align = 'L') \n",
        "pdf.cell(200, 10, txt = \"Class: \"+str(clas), \n",
        "         ln = 2, align = 'L')  \n",
        "\n",
        "pdf.output(\"Report.pdf\") "
      ],
      "execution_count": 11,
      "outputs": [
        {
          "output_type": "execute_result",
          "data": {
            "application/vnd.google.colaboratory.intrinsic+json": {
              "type": "string"
            },
            "text/plain": [
              "''"
            ]
          },
          "metadata": {
            "tags": []
          },
          "execution_count": 11
        }
      ]
    },
    {
      "cell_type": "code",
      "metadata": {
        "id": "IvFblW5FYIwp"
      },
      "source": [
        ""
      ],
      "execution_count": null,
      "outputs": []
    }
  ]
}