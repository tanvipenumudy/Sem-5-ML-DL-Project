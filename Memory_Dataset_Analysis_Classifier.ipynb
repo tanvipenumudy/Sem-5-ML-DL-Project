{
  "nbformat": 4,
  "nbformat_minor": 0,
  "metadata": {
    "colab": {
      "name": "Memory Dataset Analysis Classifier.ipynb",
      "provenance": [],
      "collapsed_sections": []
    },
    "kernelspec": {
      "name": "python3",
      "display_name": "Python 3"
    }
  },
  "cells": [
    {
      "cell_type": "code",
      "metadata": {
        "id": "WhpclpgtfoSu"
      },
      "source": [
        "import pandas as pd\n",
        "import numpy as np\n",
        "from sklearn.model_selection import train_test_split\n",
        "from sklearn.metrics import accuracy_score\n",
        "from sklearn.metrics import precision_recall_fscore_support\n",
        "from sklearn.preprocessing import MinMaxScaler, LabelEncoder\n",
        "import matplotlib.pyplot as plt"
      ],
      "execution_count": 1,
      "outputs": []
    },
    {
      "cell_type": "code",
      "metadata": {
        "id": "irhatkmnhq4K",
        "outputId": "4c6f63e6-3b49-44c7-e458-5aec64550f63",
        "colab": {
          "base_uri": "https://localhost:8080/",
          "height": 935
        }
      },
      "source": [
        "data = pd.read_csv('memory.csv')\n",
        "data.head(30)"
      ],
      "execution_count": 87,
      "outputs": [
        {
          "output_type": "execute_result",
          "data": {
            "text/html": [
              "<div>\n",
              "<style scoped>\n",
              "    .dataframe tbody tr th:only-of-type {\n",
              "        vertical-align: middle;\n",
              "    }\n",
              "\n",
              "    .dataframe tbody tr th {\n",
              "        vertical-align: top;\n",
              "    }\n",
              "\n",
              "    .dataframe thead th {\n",
              "        text-align: right;\n",
              "    }\n",
              "</style>\n",
              "<table border=\"1\" class=\"dataframe\">\n",
              "  <thead>\n",
              "    <tr style=\"text-align: right;\">\n",
              "      <th></th>\n",
              "      <th>BAY</th>\n",
              "      <th>BAM</th>\n",
              "      <th>BTM</th>\n",
              "      <th>Gender</th>\n",
              "      <th>Score</th>\n",
              "      <th>AY</th>\n",
              "      <th>AM</th>\n",
              "      <th>ATM</th>\n",
              "      <th>D</th>\n",
              "      <th>RLD</th>\n",
              "    </tr>\n",
              "  </thead>\n",
              "  <tbody>\n",
              "    <tr>\n",
              "      <th>0</th>\n",
              "      <td>5</td>\n",
              "      <td>0</td>\n",
              "      <td>60</td>\n",
              "      <td>F</td>\n",
              "      <td>6</td>\n",
              "      <td>6</td>\n",
              "      <td>6</td>\n",
              "      <td>78</td>\n",
              "      <td>18</td>\n",
              "      <td>Well</td>\n",
              "    </tr>\n",
              "    <tr>\n",
              "      <th>1</th>\n",
              "      <td>5</td>\n",
              "      <td>0</td>\n",
              "      <td>60</td>\n",
              "      <td>F</td>\n",
              "      <td>7</td>\n",
              "      <td>6</td>\n",
              "      <td>6</td>\n",
              "      <td>78</td>\n",
              "      <td>18</td>\n",
              "      <td>Well</td>\n",
              "    </tr>\n",
              "    <tr>\n",
              "      <th>2</th>\n",
              "      <td>5</td>\n",
              "      <td>0</td>\n",
              "      <td>60</td>\n",
              "      <td>F</td>\n",
              "      <td>8</td>\n",
              "      <td>7</td>\n",
              "      <td>0</td>\n",
              "      <td>84</td>\n",
              "      <td>24</td>\n",
              "      <td>Well</td>\n",
              "    </tr>\n",
              "    <tr>\n",
              "      <th>3</th>\n",
              "      <td>5</td>\n",
              "      <td>0</td>\n",
              "      <td>60</td>\n",
              "      <td>F</td>\n",
              "      <td>9</td>\n",
              "      <td>7</td>\n",
              "      <td>6</td>\n",
              "      <td>90</td>\n",
              "      <td>30</td>\n",
              "      <td>Well</td>\n",
              "    </tr>\n",
              "    <tr>\n",
              "      <th>4</th>\n",
              "      <td>5</td>\n",
              "      <td>0</td>\n",
              "      <td>60</td>\n",
              "      <td>F</td>\n",
              "      <td>10</td>\n",
              "      <td>8</td>\n",
              "      <td>6</td>\n",
              "      <td>102</td>\n",
              "      <td>42</td>\n",
              "      <td>Well</td>\n",
              "    </tr>\n",
              "    <tr>\n",
              "      <th>5</th>\n",
              "      <td>5</td>\n",
              "      <td>0</td>\n",
              "      <td>60</td>\n",
              "      <td>F</td>\n",
              "      <td>11</td>\n",
              "      <td>10</td>\n",
              "      <td>0</td>\n",
              "      <td>120</td>\n",
              "      <td>60</td>\n",
              "      <td>Well</td>\n",
              "    </tr>\n",
              "    <tr>\n",
              "      <th>6</th>\n",
              "      <td>5</td>\n",
              "      <td>0</td>\n",
              "      <td>60</td>\n",
              "      <td>F</td>\n",
              "      <td>12</td>\n",
              "      <td>11</td>\n",
              "      <td>6</td>\n",
              "      <td>138</td>\n",
              "      <td>78</td>\n",
              "      <td>Well</td>\n",
              "    </tr>\n",
              "    <tr>\n",
              "      <th>7</th>\n",
              "      <td>5</td>\n",
              "      <td>0</td>\n",
              "      <td>60</td>\n",
              "      <td>F</td>\n",
              "      <td>13</td>\n",
              "      <td>12</td>\n",
              "      <td>6</td>\n",
              "      <td>150</td>\n",
              "      <td>90</td>\n",
              "      <td>Well</td>\n",
              "    </tr>\n",
              "    <tr>\n",
              "      <th>8</th>\n",
              "      <td>5</td>\n",
              "      <td>0</td>\n",
              "      <td>60</td>\n",
              "      <td>F</td>\n",
              "      <td>14</td>\n",
              "      <td>14</td>\n",
              "      <td>0</td>\n",
              "      <td>168</td>\n",
              "      <td>108</td>\n",
              "      <td>Well</td>\n",
              "    </tr>\n",
              "    <tr>\n",
              "      <th>9</th>\n",
              "      <td>5</td>\n",
              "      <td>0</td>\n",
              "      <td>60</td>\n",
              "      <td>F</td>\n",
              "      <td>15</td>\n",
              "      <td>16</td>\n",
              "      <td>0</td>\n",
              "      <td>192</td>\n",
              "      <td>132</td>\n",
              "      <td>Well</td>\n",
              "    </tr>\n",
              "    <tr>\n",
              "      <th>10</th>\n",
              "      <td>5</td>\n",
              "      <td>1</td>\n",
              "      <td>61</td>\n",
              "      <td>F</td>\n",
              "      <td>6</td>\n",
              "      <td>6</td>\n",
              "      <td>6</td>\n",
              "      <td>78</td>\n",
              "      <td>17</td>\n",
              "      <td>Well</td>\n",
              "    </tr>\n",
              "    <tr>\n",
              "      <th>11</th>\n",
              "      <td>5</td>\n",
              "      <td>1</td>\n",
              "      <td>61</td>\n",
              "      <td>F</td>\n",
              "      <td>7</td>\n",
              "      <td>6</td>\n",
              "      <td>6</td>\n",
              "      <td>78</td>\n",
              "      <td>17</td>\n",
              "      <td>Well</td>\n",
              "    </tr>\n",
              "    <tr>\n",
              "      <th>12</th>\n",
              "      <td>5</td>\n",
              "      <td>1</td>\n",
              "      <td>61</td>\n",
              "      <td>F</td>\n",
              "      <td>8</td>\n",
              "      <td>7</td>\n",
              "      <td>0</td>\n",
              "      <td>84</td>\n",
              "      <td>23</td>\n",
              "      <td>Well</td>\n",
              "    </tr>\n",
              "    <tr>\n",
              "      <th>13</th>\n",
              "      <td>5</td>\n",
              "      <td>1</td>\n",
              "      <td>61</td>\n",
              "      <td>F</td>\n",
              "      <td>9</td>\n",
              "      <td>7</td>\n",
              "      <td>6</td>\n",
              "      <td>90</td>\n",
              "      <td>29</td>\n",
              "      <td>Well</td>\n",
              "    </tr>\n",
              "    <tr>\n",
              "      <th>14</th>\n",
              "      <td>5</td>\n",
              "      <td>1</td>\n",
              "      <td>61</td>\n",
              "      <td>F</td>\n",
              "      <td>10</td>\n",
              "      <td>8</td>\n",
              "      <td>6</td>\n",
              "      <td>102</td>\n",
              "      <td>41</td>\n",
              "      <td>Well</td>\n",
              "    </tr>\n",
              "    <tr>\n",
              "      <th>15</th>\n",
              "      <td>5</td>\n",
              "      <td>1</td>\n",
              "      <td>61</td>\n",
              "      <td>F</td>\n",
              "      <td>11</td>\n",
              "      <td>10</td>\n",
              "      <td>0</td>\n",
              "      <td>120</td>\n",
              "      <td>59</td>\n",
              "      <td>Well</td>\n",
              "    </tr>\n",
              "    <tr>\n",
              "      <th>16</th>\n",
              "      <td>5</td>\n",
              "      <td>1</td>\n",
              "      <td>61</td>\n",
              "      <td>F</td>\n",
              "      <td>12</td>\n",
              "      <td>11</td>\n",
              "      <td>6</td>\n",
              "      <td>138</td>\n",
              "      <td>77</td>\n",
              "      <td>Well</td>\n",
              "    </tr>\n",
              "    <tr>\n",
              "      <th>17</th>\n",
              "      <td>5</td>\n",
              "      <td>1</td>\n",
              "      <td>61</td>\n",
              "      <td>F</td>\n",
              "      <td>13</td>\n",
              "      <td>12</td>\n",
              "      <td>6</td>\n",
              "      <td>150</td>\n",
              "      <td>89</td>\n",
              "      <td>Well</td>\n",
              "    </tr>\n",
              "    <tr>\n",
              "      <th>18</th>\n",
              "      <td>5</td>\n",
              "      <td>1</td>\n",
              "      <td>61</td>\n",
              "      <td>F</td>\n",
              "      <td>14</td>\n",
              "      <td>14</td>\n",
              "      <td>0</td>\n",
              "      <td>168</td>\n",
              "      <td>107</td>\n",
              "      <td>Well</td>\n",
              "    </tr>\n",
              "    <tr>\n",
              "      <th>19</th>\n",
              "      <td>5</td>\n",
              "      <td>1</td>\n",
              "      <td>61</td>\n",
              "      <td>F</td>\n",
              "      <td>15</td>\n",
              "      <td>16</td>\n",
              "      <td>0</td>\n",
              "      <td>192</td>\n",
              "      <td>131</td>\n",
              "      <td>Well</td>\n",
              "    </tr>\n",
              "    <tr>\n",
              "      <th>20</th>\n",
              "      <td>5</td>\n",
              "      <td>2</td>\n",
              "      <td>62</td>\n",
              "      <td>F</td>\n",
              "      <td>6</td>\n",
              "      <td>6</td>\n",
              "      <td>6</td>\n",
              "      <td>78</td>\n",
              "      <td>16</td>\n",
              "      <td>Well</td>\n",
              "    </tr>\n",
              "    <tr>\n",
              "      <th>21</th>\n",
              "      <td>5</td>\n",
              "      <td>2</td>\n",
              "      <td>62</td>\n",
              "      <td>F</td>\n",
              "      <td>7</td>\n",
              "      <td>6</td>\n",
              "      <td>6</td>\n",
              "      <td>78</td>\n",
              "      <td>16</td>\n",
              "      <td>Well</td>\n",
              "    </tr>\n",
              "    <tr>\n",
              "      <th>22</th>\n",
              "      <td>5</td>\n",
              "      <td>2</td>\n",
              "      <td>62</td>\n",
              "      <td>F</td>\n",
              "      <td>8</td>\n",
              "      <td>7</td>\n",
              "      <td>0</td>\n",
              "      <td>84</td>\n",
              "      <td>22</td>\n",
              "      <td>Well</td>\n",
              "    </tr>\n",
              "    <tr>\n",
              "      <th>23</th>\n",
              "      <td>5</td>\n",
              "      <td>2</td>\n",
              "      <td>62</td>\n",
              "      <td>F</td>\n",
              "      <td>9</td>\n",
              "      <td>7</td>\n",
              "      <td>6</td>\n",
              "      <td>90</td>\n",
              "      <td>28</td>\n",
              "      <td>Well</td>\n",
              "    </tr>\n",
              "    <tr>\n",
              "      <th>24</th>\n",
              "      <td>5</td>\n",
              "      <td>2</td>\n",
              "      <td>62</td>\n",
              "      <td>F</td>\n",
              "      <td>10</td>\n",
              "      <td>8</td>\n",
              "      <td>6</td>\n",
              "      <td>102</td>\n",
              "      <td>40</td>\n",
              "      <td>Well</td>\n",
              "    </tr>\n",
              "    <tr>\n",
              "      <th>25</th>\n",
              "      <td>5</td>\n",
              "      <td>2</td>\n",
              "      <td>62</td>\n",
              "      <td>F</td>\n",
              "      <td>11</td>\n",
              "      <td>10</td>\n",
              "      <td>0</td>\n",
              "      <td>120</td>\n",
              "      <td>58</td>\n",
              "      <td>Well</td>\n",
              "    </tr>\n",
              "    <tr>\n",
              "      <th>26</th>\n",
              "      <td>5</td>\n",
              "      <td>2</td>\n",
              "      <td>62</td>\n",
              "      <td>F</td>\n",
              "      <td>12</td>\n",
              "      <td>11</td>\n",
              "      <td>6</td>\n",
              "      <td>138</td>\n",
              "      <td>76</td>\n",
              "      <td>Well</td>\n",
              "    </tr>\n",
              "    <tr>\n",
              "      <th>27</th>\n",
              "      <td>5</td>\n",
              "      <td>2</td>\n",
              "      <td>62</td>\n",
              "      <td>F</td>\n",
              "      <td>13</td>\n",
              "      <td>12</td>\n",
              "      <td>6</td>\n",
              "      <td>150</td>\n",
              "      <td>88</td>\n",
              "      <td>Well</td>\n",
              "    </tr>\n",
              "    <tr>\n",
              "      <th>28</th>\n",
              "      <td>5</td>\n",
              "      <td>2</td>\n",
              "      <td>62</td>\n",
              "      <td>F</td>\n",
              "      <td>14</td>\n",
              "      <td>14</td>\n",
              "      <td>0</td>\n",
              "      <td>168</td>\n",
              "      <td>106</td>\n",
              "      <td>Well</td>\n",
              "    </tr>\n",
              "    <tr>\n",
              "      <th>29</th>\n",
              "      <td>5</td>\n",
              "      <td>2</td>\n",
              "      <td>62</td>\n",
              "      <td>F</td>\n",
              "      <td>15</td>\n",
              "      <td>16</td>\n",
              "      <td>0</td>\n",
              "      <td>192</td>\n",
              "      <td>130</td>\n",
              "      <td>Well</td>\n",
              "    </tr>\n",
              "  </tbody>\n",
              "</table>\n",
              "</div>"
            ],
            "text/plain": [
              "    BAY  BAM  BTM  Gender  Score  AY  AM  ATM    D   RLD\n",
              "0     5    0    60      F      6   6   6   78   18  Well\n",
              "1     5    0    60      F      7   6   6   78   18  Well\n",
              "2     5    0    60      F      8   7   0   84   24  Well\n",
              "3     5    0    60      F      9   7   6   90   30  Well\n",
              "4     5    0    60      F     10   8   6  102   42  Well\n",
              "5     5    0    60      F     11  10   0  120   60  Well\n",
              "6     5    0    60      F     12  11   6  138   78  Well\n",
              "7     5    0    60      F     13  12   6  150   90  Well\n",
              "8     5    0    60      F     14  14   0  168  108  Well\n",
              "9     5    0    60      F     15  16   0  192  132  Well\n",
              "10    5    1    61      F      6   6   6   78   17  Well\n",
              "11    5    1    61      F      7   6   6   78   17  Well\n",
              "12    5    1    61      F      8   7   0   84   23  Well\n",
              "13    5    1    61      F      9   7   6   90   29  Well\n",
              "14    5    1    61      F     10   8   6  102   41  Well\n",
              "15    5    1    61      F     11  10   0  120   59  Well\n",
              "16    5    1    61      F     12  11   6  138   77  Well\n",
              "17    5    1    61      F     13  12   6  150   89  Well\n",
              "18    5    1    61      F     14  14   0  168  107  Well\n",
              "19    5    1    61      F     15  16   0  192  131  Well\n",
              "20    5    2    62      F      6   6   6   78   16  Well\n",
              "21    5    2    62      F      7   6   6   78   16  Well\n",
              "22    5    2    62      F      8   7   0   84   22  Well\n",
              "23    5    2    62      F      9   7   6   90   28  Well\n",
              "24    5    2    62      F     10   8   6  102   40  Well\n",
              "25    5    2    62      F     11  10   0  120   58  Well\n",
              "26    5    2    62      F     12  11   6  138   76  Well\n",
              "27    5    2    62      F     13  12   6  150   88  Well\n",
              "28    5    2    62      F     14  14   0  168  106  Well\n",
              "29    5    2    62      F     15  16   0  192  130  Well"
            ]
          },
          "metadata": {
            "tags": []
          },
          "execution_count": 87
        }
      ]
    },
    {
      "cell_type": "code",
      "metadata": {
        "id": "17V1zAFOhr78"
      },
      "source": [
        "data = data.sample(frac=1).reset_index(drop=True)"
      ],
      "execution_count": 88,
      "outputs": []
    },
    {
      "cell_type": "code",
      "metadata": {
        "id": "Q_Bxu8PAhr9d",
        "outputId": "ff270f79-039d-4d25-bfe2-92e39c281214",
        "colab": {
          "base_uri": "https://localhost:8080/"
        }
      },
      "source": [
        "data.isna().sum()"
      ],
      "execution_count": 89,
      "outputs": [
        {
          "output_type": "execute_result",
          "data": {
            "text/plain": [
              "BAY       0\n",
              "BAM       0\n",
              "BTM       0\n",
              "Gender    0\n",
              "Score     0\n",
              "AY        0\n",
              "AM        0\n",
              "ATM       0\n",
              "D         0\n",
              "RLD       0\n",
              "dtype: int64"
            ]
          },
          "metadata": {
            "tags": []
          },
          "execution_count": 89
        }
      ]
    },
    {
      "cell_type": "code",
      "metadata": {
        "id": "AEKMTSCVh86N",
        "outputId": "2626f14f-3b8e-4dc9-b347-2af6425aff45",
        "colab": {
          "base_uri": "https://localhost:8080/"
        }
      },
      "source": [
        "LE = LabelEncoder()\n",
        "CateList = data.select_dtypes(exclude=\"int64\").columns\n",
        "print(CateList)"
      ],
      "execution_count": 90,
      "outputs": [
        {
          "output_type": "stream",
          "text": [
            "Index(['Gender', 'RLD'], dtype='object')\n"
          ],
          "name": "stdout"
        }
      ]
    },
    {
      "cell_type": "code",
      "metadata": {
        "id": "4Rwfosukh9CT"
      },
      "source": [
        "for i in CateList:\n",
        "    data[i] = LE.fit_transform(data[i])"
      ],
      "execution_count": 91,
      "outputs": []
    },
    {
      "cell_type": "code",
      "metadata": {
        "id": "px8OrS8Bh9Kj",
        "outputId": "3896d8cc-9b69-4222-b319-ee9c712d4092",
        "colab": {
          "base_uri": "https://localhost:8080/"
        }
      },
      "source": [
        "LE.classes_"
      ],
      "execution_count": 92,
      "outputs": [
        {
          "output_type": "execute_result",
          "data": {
            "text/plain": [
              "array(['Good', 'Mild', 'Neutral', 'Severe', 'Well'], dtype=object)"
            ]
          },
          "metadata": {
            "tags": []
          },
          "execution_count": 92
        }
      ]
    },
    {
      "cell_type": "code",
      "metadata": {
        "id": "6EqXiEc4hsCA",
        "outputId": "bd3091b9-87cb-471e-99cf-bf47dc6ab0a0",
        "colab": {
          "base_uri": "https://localhost:8080/",
          "height": 195
        }
      },
      "source": [
        "data.head()"
      ],
      "execution_count": 93,
      "outputs": [
        {
          "output_type": "execute_result",
          "data": {
            "text/html": [
              "<div>\n",
              "<style scoped>\n",
              "    .dataframe tbody tr th:only-of-type {\n",
              "        vertical-align: middle;\n",
              "    }\n",
              "\n",
              "    .dataframe tbody tr th {\n",
              "        vertical-align: top;\n",
              "    }\n",
              "\n",
              "    .dataframe thead th {\n",
              "        text-align: right;\n",
              "    }\n",
              "</style>\n",
              "<table border=\"1\" class=\"dataframe\">\n",
              "  <thead>\n",
              "    <tr style=\"text-align: right;\">\n",
              "      <th></th>\n",
              "      <th>BAY</th>\n",
              "      <th>BAM</th>\n",
              "      <th>BTM</th>\n",
              "      <th>Gender</th>\n",
              "      <th>Score</th>\n",
              "      <th>AY</th>\n",
              "      <th>AM</th>\n",
              "      <th>ATM</th>\n",
              "      <th>D</th>\n",
              "      <th>RLD</th>\n",
              "    </tr>\n",
              "  </thead>\n",
              "  <tbody>\n",
              "    <tr>\n",
              "      <th>0</th>\n",
              "      <td>14</td>\n",
              "      <td>9</td>\n",
              "      <td>177</td>\n",
              "      <td>1</td>\n",
              "      <td>12</td>\n",
              "      <td>11</td>\n",
              "      <td>6</td>\n",
              "      <td>138</td>\n",
              "      <td>-39</td>\n",
              "      <td>3</td>\n",
              "    </tr>\n",
              "    <tr>\n",
              "      <th>1</th>\n",
              "      <td>12</td>\n",
              "      <td>8</td>\n",
              "      <td>152</td>\n",
              "      <td>0</td>\n",
              "      <td>12</td>\n",
              "      <td>11</td>\n",
              "      <td>6</td>\n",
              "      <td>138</td>\n",
              "      <td>-14</td>\n",
              "      <td>3</td>\n",
              "    </tr>\n",
              "    <tr>\n",
              "      <th>2</th>\n",
              "      <td>17</td>\n",
              "      <td>3</td>\n",
              "      <td>207</td>\n",
              "      <td>1</td>\n",
              "      <td>7</td>\n",
              "      <td>6</td>\n",
              "      <td>6</td>\n",
              "      <td>78</td>\n",
              "      <td>-129</td>\n",
              "      <td>3</td>\n",
              "    </tr>\n",
              "    <tr>\n",
              "      <th>3</th>\n",
              "      <td>13</td>\n",
              "      <td>5</td>\n",
              "      <td>161</td>\n",
              "      <td>1</td>\n",
              "      <td>9</td>\n",
              "      <td>7</td>\n",
              "      <td>6</td>\n",
              "      <td>90</td>\n",
              "      <td>-71</td>\n",
              "      <td>3</td>\n",
              "    </tr>\n",
              "    <tr>\n",
              "      <th>4</th>\n",
              "      <td>12</td>\n",
              "      <td>9</td>\n",
              "      <td>153</td>\n",
              "      <td>0</td>\n",
              "      <td>12</td>\n",
              "      <td>11</td>\n",
              "      <td>6</td>\n",
              "      <td>138</td>\n",
              "      <td>-15</td>\n",
              "      <td>3</td>\n",
              "    </tr>\n",
              "  </tbody>\n",
              "</table>\n",
              "</div>"
            ],
            "text/plain": [
              "   BAY  BAM  BTM   Gender  Score  AY  AM  ATM    D  RLD\n",
              "0   14    9   177       1     12  11   6  138  -39    3\n",
              "1   12    8   152       0     12  11   6  138  -14    3\n",
              "2   17    3   207       1      7   6   6   78 -129    3\n",
              "3   13    5   161       1      9   7   6   90  -71    3\n",
              "4   12    9   153       0     12  11   6  138  -15    3"
            ]
          },
          "metadata": {
            "tags": []
          },
          "execution_count": 93
        }
      ]
    },
    {
      "cell_type": "code",
      "metadata": {
        "id": "5CUHfr_kj9aa"
      },
      "source": [
        "data = data.drop(['BAY','BAM','Gender','AY','AM','ATM','D'], axis=1)"
      ],
      "execution_count": 94,
      "outputs": []
    },
    {
      "cell_type": "code",
      "metadata": {
        "id": "BpyND0c5j9k7",
        "outputId": "f9c6e16b-a438-44ff-beb6-f14c77ff872f",
        "colab": {
          "base_uri": "https://localhost:8080/",
          "height": 195
        }
      },
      "source": [
        "data.head()"
      ],
      "execution_count": 95,
      "outputs": [
        {
          "output_type": "execute_result",
          "data": {
            "text/html": [
              "<div>\n",
              "<style scoped>\n",
              "    .dataframe tbody tr th:only-of-type {\n",
              "        vertical-align: middle;\n",
              "    }\n",
              "\n",
              "    .dataframe tbody tr th {\n",
              "        vertical-align: top;\n",
              "    }\n",
              "\n",
              "    .dataframe thead th {\n",
              "        text-align: right;\n",
              "    }\n",
              "</style>\n",
              "<table border=\"1\" class=\"dataframe\">\n",
              "  <thead>\n",
              "    <tr style=\"text-align: right;\">\n",
              "      <th></th>\n",
              "      <th>BTM</th>\n",
              "      <th>Score</th>\n",
              "      <th>RLD</th>\n",
              "    </tr>\n",
              "  </thead>\n",
              "  <tbody>\n",
              "    <tr>\n",
              "      <th>0</th>\n",
              "      <td>177</td>\n",
              "      <td>12</td>\n",
              "      <td>3</td>\n",
              "    </tr>\n",
              "    <tr>\n",
              "      <th>1</th>\n",
              "      <td>152</td>\n",
              "      <td>12</td>\n",
              "      <td>3</td>\n",
              "    </tr>\n",
              "    <tr>\n",
              "      <th>2</th>\n",
              "      <td>207</td>\n",
              "      <td>7</td>\n",
              "      <td>3</td>\n",
              "    </tr>\n",
              "    <tr>\n",
              "      <th>3</th>\n",
              "      <td>161</td>\n",
              "      <td>9</td>\n",
              "      <td>3</td>\n",
              "    </tr>\n",
              "    <tr>\n",
              "      <th>4</th>\n",
              "      <td>153</td>\n",
              "      <td>12</td>\n",
              "      <td>3</td>\n",
              "    </tr>\n",
              "  </tbody>\n",
              "</table>\n",
              "</div>"
            ],
            "text/plain": [
              "   BTM   Score  RLD\n",
              "0   177     12    3\n",
              "1   152     12    3\n",
              "2   207      7    3\n",
              "3   161      9    3\n",
              "4   153     12    3"
            ]
          },
          "metadata": {
            "tags": []
          },
          "execution_count": 95
        }
      ]
    },
    {
      "cell_type": "code",
      "metadata": {
        "id": "QkYWdDjrj8Yp"
      },
      "source": [
        "data = data.drop_duplicates()"
      ],
      "execution_count": 96,
      "outputs": []
    },
    {
      "cell_type": "code",
      "metadata": {
        "id": "Ic9GzrBWhsF6",
        "outputId": "17be49ce-5225-4fde-c39e-acc39d0ada63",
        "colab": {
          "base_uri": "https://localhost:8080/"
        }
      },
      "source": [
        "df = data.iloc[:,:-1]\n",
        "mm = MinMaxScaler()\n",
        "df[:]= mm.fit(df[:])"
      ],
      "execution_count": 82,
      "outputs": [
        {
          "output_type": "stream",
          "text": [
            "/usr/local/lib/python3.6/dist-packages/ipykernel_launcher.py:3: SettingWithCopyWarning: \n",
            "A value is trying to be set on a copy of a slice from a DataFrame.\n",
            "Try using .loc[row_indexer,col_indexer] = value instead\n",
            "\n",
            "See the caveats in the documentation: https://pandas.pydata.org/pandas-docs/stable/user_guide/indexing.html#returning-a-view-versus-a-copy\n",
            "  This is separate from the ipykernel package so we can avoid doing imports until\n",
            "/usr/local/lib/python3.6/dist-packages/pandas/core/indexing.py:1763: SettingWithCopyWarning: \n",
            "A value is trying to be set on a copy of a slice from a DataFrame.\n",
            "Try using .loc[row_indexer,col_indexer] = value instead\n",
            "\n",
            "See the caveats in the documentation: https://pandas.pydata.org/pandas-docs/stable/user_guide/indexing.html#returning-a-view-versus-a-copy\n",
            "  isetter(loc, value)\n"
          ],
          "name": "stderr"
        }
      ]
    },
    {
      "cell_type": "code",
      "metadata": {
        "id": "iDskEd4xiMbP",
        "outputId": "f4cc14b7-89e4-4725-fe24-ff3f2d14ff96",
        "colab": {
          "base_uri": "https://localhost:8080/",
          "height": 195
        }
      },
      "source": [
        "df.head()"
      ],
      "execution_count": 83,
      "outputs": [
        {
          "output_type": "execute_result",
          "data": {
            "text/html": [
              "<div>\n",
              "<style scoped>\n",
              "    .dataframe tbody tr th:only-of-type {\n",
              "        vertical-align: middle;\n",
              "    }\n",
              "\n",
              "    .dataframe tbody tr th {\n",
              "        vertical-align: top;\n",
              "    }\n",
              "\n",
              "    .dataframe thead th {\n",
              "        text-align: right;\n",
              "    }\n",
              "</style>\n",
              "<table border=\"1\" class=\"dataframe\">\n",
              "  <thead>\n",
              "    <tr style=\"text-align: right;\">\n",
              "      <th></th>\n",
              "      <th>BTM</th>\n",
              "      <th>Score</th>\n",
              "    </tr>\n",
              "  </thead>\n",
              "  <tbody>\n",
              "    <tr>\n",
              "      <th>0</th>\n",
              "      <td>MinMaxScaler(copy=True, feature_range=(0, 1))</td>\n",
              "      <td>MinMaxScaler(copy=True, feature_range=(0, 1))</td>\n",
              "    </tr>\n",
              "    <tr>\n",
              "      <th>1</th>\n",
              "      <td>MinMaxScaler(copy=True, feature_range=(0, 1))</td>\n",
              "      <td>MinMaxScaler(copy=True, feature_range=(0, 1))</td>\n",
              "    </tr>\n",
              "    <tr>\n",
              "      <th>2</th>\n",
              "      <td>MinMaxScaler(copy=True, feature_range=(0, 1))</td>\n",
              "      <td>MinMaxScaler(copy=True, feature_range=(0, 1))</td>\n",
              "    </tr>\n",
              "    <tr>\n",
              "      <th>3</th>\n",
              "      <td>MinMaxScaler(copy=True, feature_range=(0, 1))</td>\n",
              "      <td>MinMaxScaler(copy=True, feature_range=(0, 1))</td>\n",
              "    </tr>\n",
              "    <tr>\n",
              "      <th>4</th>\n",
              "      <td>MinMaxScaler(copy=True, feature_range=(0, 1))</td>\n",
              "      <td>MinMaxScaler(copy=True, feature_range=(0, 1))</td>\n",
              "    </tr>\n",
              "  </tbody>\n",
              "</table>\n",
              "</div>"
            ],
            "text/plain": [
              "                                            BTM                                           Score\n",
              "0  MinMaxScaler(copy=True, feature_range=(0, 1))  MinMaxScaler(copy=True, feature_range=(0, 1))\n",
              "1  MinMaxScaler(copy=True, feature_range=(0, 1))  MinMaxScaler(copy=True, feature_range=(0, 1))\n",
              "2  MinMaxScaler(copy=True, feature_range=(0, 1))  MinMaxScaler(copy=True, feature_range=(0, 1))\n",
              "3  MinMaxScaler(copy=True, feature_range=(0, 1))  MinMaxScaler(copy=True, feature_range=(0, 1))\n",
              "4  MinMaxScaler(copy=True, feature_range=(0, 1))  MinMaxScaler(copy=True, feature_range=(0, 1))"
            ]
          },
          "metadata": {
            "tags": []
          },
          "execution_count": 83
        }
      ]
    },
    {
      "cell_type": "code",
      "metadata": {
        "id": "UTQVQEVNiMlK",
        "outputId": "811e1510-3f2b-44f9-a38c-212108c4f83f",
        "colab": {
          "base_uri": "https://localhost:8080/"
        }
      },
      "source": [
        "X = df.values\n",
        "y = data['RLD'].values\n",
        "print(X.shape, y.shape)"
      ],
      "execution_count": 53,
      "outputs": [
        {
          "output_type": "stream",
          "text": [
            "(1680, 2) (1680,)\n"
          ],
          "name": "stdout"
        }
      ]
    },
    {
      "cell_type": "code",
      "metadata": {
        "id": "ufhoNoRTieZg"
      },
      "source": [
        "from sklearn.tree import DecisionTreeClassifier"
      ],
      "execution_count": 66,
      "outputs": []
    },
    {
      "cell_type": "code",
      "metadata": {
        "id": "r5vMYpz8kVQH",
        "outputId": "5fc8c8ca-7b4c-4657-85ab-2543ade1a6f8",
        "colab": {
          "base_uri": "https://localhost:8080/"
        }
      },
      "source": [
        "clf = DecisionTreeClassifier(criterion=\"gini\")\n",
        "clf.fit(X, y)"
      ],
      "execution_count": 67,
      "outputs": [
        {
          "output_type": "execute_result",
          "data": {
            "text/plain": [
              "DecisionTreeClassifier(ccp_alpha=0.0, class_weight=None, criterion='gini',\n",
              "                       max_depth=None, max_features=None, max_leaf_nodes=None,\n",
              "                       min_impurity_decrease=0.0, min_impurity_split=None,\n",
              "                       min_samples_leaf=1, min_samples_split=2,\n",
              "                       min_weight_fraction_leaf=0.0, presort='deprecated',\n",
              "                       random_state=None, splitter='best')"
            ]
          },
          "metadata": {
            "tags": []
          },
          "execution_count": 67
        }
      ]
    },
    {
      "cell_type": "code",
      "metadata": {
        "id": "Cj5_A5FxkVUa"
      },
      "source": [
        "pred = clf.predict(X)\n",
        "acc = accuracy_score(y, pred)"
      ],
      "execution_count": 68,
      "outputs": []
    },
    {
      "cell_type": "code",
      "metadata": {
        "id": "hw3F13IXkVXz",
        "outputId": "33117578-e7b5-473e-c58a-0fff7f1d1025",
        "colab": {
          "base_uri": "https://localhost:8080/"
        }
      },
      "source": [
        "print(\"Training Accuracy (Decision Tree):\",acc)"
      ],
      "execution_count": 69,
      "outputs": [
        {
          "output_type": "stream",
          "text": [
            "Training Accuracy (Ada Boost): 1.0\n"
          ],
          "name": "stdout"
        }
      ]
    },
    {
      "cell_type": "code",
      "metadata": {
        "id": "4YPb26yEkVS-",
        "outputId": "0412a218-6109-4266-f123-4362fbdab2bb",
        "colab": {
          "base_uri": "https://localhost:8080/"
        }
      },
      "source": [
        "from sklearn.externals import joblib "
      ],
      "execution_count": 70,
      "outputs": [
        {
          "output_type": "stream",
          "text": [
            "/usr/local/lib/python3.6/dist-packages/sklearn/externals/joblib/__init__.py:15: FutureWarning: sklearn.externals.joblib is deprecated in 0.21 and will be removed in 0.23. Please import this functionality directly from joblib, which can be installed with: pip install joblib. If this warning is raised when loading pickled models, you may need to re-serialize those models with scikit-learn 0.21+.\n",
            "  warnings.warn(msg, category=FutureWarning)\n"
          ],
          "name": "stderr"
        }
      ]
    },
    {
      "cell_type": "code",
      "metadata": {
        "id": "YHwcpBSZltEP"
      },
      "source": [
        "joblib.dump(clf, 'memory.pkl') \n",
        "loaded_model = joblib.load('memory.pkl') "
      ],
      "execution_count": 71,
      "outputs": []
    },
    {
      "cell_type": "code",
      "metadata": {
        "id": "uzXquAnnltHj"
      },
      "source": [
        "joblib.dump(mm, 'memory_mm.pkl')\n",
        "m = joblib.load('memory_mm.pkl')"
      ],
      "execution_count": 84,
      "outputs": []
    },
    {
      "cell_type": "code",
      "metadata": {
        "id": "sWt3EbC8ltCr",
        "outputId": "03596d76-bad0-4df6-c821-c9e982fad258",
        "colab": {
          "base_uri": "https://localhost:8080/"
        }
      },
      "source": [
        "m.data_max_"
      ],
      "execution_count": 85,
      "outputs": [
        {
          "output_type": "execute_result",
          "data": {
            "text/plain": [
              "array([227.,  15.])"
            ]
          },
          "metadata": {
            "tags": []
          },
          "execution_count": 85
        }
      ]
    },
    {
      "cell_type": "code",
      "metadata": {
        "id": "Ex7nDgjdiebq",
        "outputId": "51543365-82ea-4f98-aa07-9fe46b975b00",
        "colab": {
          "base_uri": "https://localhost:8080/"
        }
      },
      "source": [
        "m.data_min_"
      ],
      "execution_count": 86,
      "outputs": [
        {
          "output_type": "execute_result",
          "data": {
            "text/plain": [
              "array([60.,  6.])"
            ]
          },
          "metadata": {
            "tags": []
          },
          "execution_count": 86
        }
      ]
    },
    {
      "cell_type": "code",
      "metadata": {
        "id": "JewivPWuiefK",
        "outputId": "48f68fbe-34c5-4d8a-b8fc-287f6b7fa260",
        "colab": {
          "base_uri": "https://localhost:8080/"
        }
      },
      "source": [
        "df = data.iloc[:,:-1]\n",
        "m = MinMaxScaler()\n",
        "df[:]= m.fit_transform(df[:])"
      ],
      "execution_count": 102,
      "outputs": [
        {
          "output_type": "stream",
          "text": [
            "/usr/local/lib/python3.6/dist-packages/ipykernel_launcher.py:3: SettingWithCopyWarning: \n",
            "A value is trying to be set on a copy of a slice from a DataFrame.\n",
            "Try using .loc[row_indexer,col_indexer] = value instead\n",
            "\n",
            "See the caveats in the documentation: https://pandas.pydata.org/pandas-docs/stable/user_guide/indexing.html#returning-a-view-versus-a-copy\n",
            "  This is separate from the ipykernel package so we can avoid doing imports until\n",
            "/usr/local/lib/python3.6/dist-packages/pandas/core/indexing.py:1734: SettingWithCopyWarning: \n",
            "A value is trying to be set on a copy of a slice from a DataFrame.\n",
            "Try using .loc[row_indexer,col_indexer] = value instead\n",
            "\n",
            "See the caveats in the documentation: https://pandas.pydata.org/pandas-docs/stable/user_guide/indexing.html#returning-a-view-versus-a-copy\n",
            "  isetter(loc, value[:, i].tolist())\n"
          ],
          "name": "stderr"
        }
      ]
    },
    {
      "cell_type": "code",
      "metadata": {
        "id": "scY0J31mmlZL",
        "outputId": "28c29a7d-314b-43da-b3b8-8b48e9a085ae",
        "colab": {
          "base_uri": "https://localhost:8080/"
        }
      },
      "source": [
        "X = df.values\n",
        "y = data['RLD'].values\n",
        "print(X.shape, y.shape)"
      ],
      "execution_count": 103,
      "outputs": [
        {
          "output_type": "stream",
          "text": [
            "(1680, 2) (1680,)\n"
          ],
          "name": "stdout"
        }
      ]
    },
    {
      "cell_type": "code",
      "metadata": {
        "id": "4wYcq6F0mlcd"
      },
      "source": [
        "pred = loaded_model.predict(X)"
      ],
      "execution_count": 104,
      "outputs": []
    },
    {
      "cell_type": "code",
      "metadata": {
        "id": "lxCSYsz5iNAY"
      },
      "source": [
        "acc = accuracy_score(y, pred)"
      ],
      "execution_count": 105,
      "outputs": []
    },
    {
      "cell_type": "code",
      "metadata": {
        "id": "wGLHnqHmhsAs",
        "outputId": "838ece13-2256-4ffe-9088-f66cb4af19e3",
        "colab": {
          "base_uri": "https://localhost:8080/"
        }
      },
      "source": [
        "acc"
      ],
      "execution_count": 106,
      "outputs": [
        {
          "output_type": "execute_result",
          "data": {
            "text/plain": [
              "1.0"
            ]
          },
          "metadata": {
            "tags": []
          },
          "execution_count": 106
        }
      ]
    },
    {
      "cell_type": "code",
      "metadata": {
        "id": "_0csVGlrnFr9"
      },
      "source": [
        ""
      ],
      "execution_count": null,
      "outputs": []
    }
  ]
}