{
  "nbformat": 4,
  "nbformat_minor": 0,
  "metadata": {
    "colab": {
      "name": "Memory Regressor.ipynb",
      "provenance": [],
      "collapsed_sections": []
    },
    "kernelspec": {
      "name": "python3",
      "display_name": "Python 3"
    }
  },
  "cells": [
    {
      "cell_type": "code",
      "metadata": {
        "id": "WhpclpgtfoSu"
      },
      "source": [
        "import pandas as pd\n",
        "import numpy as np\n",
        "from sklearn.model_selection import train_test_split\n",
        "from sklearn.metrics import accuracy_score\n",
        "from sklearn.metrics import precision_recall_fscore_support\n",
        "from sklearn.preprocessing import MinMaxScaler, LabelEncoder\n",
        "import matplotlib.pyplot as plt"
      ],
      "execution_count": 1,
      "outputs": []
    },
    {
      "cell_type": "code",
      "metadata": {
        "id": "irhatkmnhq4K",
        "outputId": "58d97e43-602d-4775-adca-88590ee614a0",
        "colab": {
          "base_uri": "https://localhost:8080/",
          "height": 950
        }
      },
      "source": [
        "data = pd.read_csv('memory - Copy.csv')\n",
        "data.head(30)"
      ],
      "execution_count": 20,
      "outputs": [
        {
          "output_type": "execute_result",
          "data": {
            "text/html": [
              "<div>\n",
              "<style scoped>\n",
              "    .dataframe tbody tr th:only-of-type {\n",
              "        vertical-align: middle;\n",
              "    }\n",
              "\n",
              "    .dataframe tbody tr th {\n",
              "        vertical-align: top;\n",
              "    }\n",
              "\n",
              "    .dataframe thead th {\n",
              "        text-align: right;\n",
              "    }\n",
              "</style>\n",
              "<table border=\"1\" class=\"dataframe\">\n",
              "  <thead>\n",
              "    <tr style=\"text-align: right;\">\n",
              "      <th></th>\n",
              "      <th>BAY</th>\n",
              "      <th>BAM</th>\n",
              "      <th>Gender</th>\n",
              "      <th>Score</th>\n",
              "      <th>AY</th>\n",
              "      <th>AM</th>\n",
              "      <th>ALD</th>\n",
              "    </tr>\n",
              "  </thead>\n",
              "  <tbody>\n",
              "    <tr>\n",
              "      <th>0</th>\n",
              "      <td>13</td>\n",
              "      <td>7</td>\n",
              "      <td>F</td>\n",
              "      <td>8</td>\n",
              "      <td>7</td>\n",
              "      <td>0</td>\n",
              "      <td>Severe</td>\n",
              "    </tr>\n",
              "    <tr>\n",
              "      <th>1</th>\n",
              "      <td>13</td>\n",
              "      <td>10</td>\n",
              "      <td>F</td>\n",
              "      <td>9</td>\n",
              "      <td>7</td>\n",
              "      <td>6</td>\n",
              "      <td>Severe</td>\n",
              "    </tr>\n",
              "    <tr>\n",
              "      <th>2</th>\n",
              "      <td>6</td>\n",
              "      <td>0</td>\n",
              "      <td>M</td>\n",
              "      <td>12</td>\n",
              "      <td>11</td>\n",
              "      <td>6</td>\n",
              "      <td>Well</td>\n",
              "    </tr>\n",
              "    <tr>\n",
              "      <th>3</th>\n",
              "      <td>12</td>\n",
              "      <td>2</td>\n",
              "      <td>M</td>\n",
              "      <td>13</td>\n",
              "      <td>12</td>\n",
              "      <td>6</td>\n",
              "      <td>Good</td>\n",
              "    </tr>\n",
              "    <tr>\n",
              "      <th>4</th>\n",
              "      <td>7</td>\n",
              "      <td>7</td>\n",
              "      <td>F</td>\n",
              "      <td>12</td>\n",
              "      <td>11</td>\n",
              "      <td>6</td>\n",
              "      <td>Well</td>\n",
              "    </tr>\n",
              "    <tr>\n",
              "      <th>5</th>\n",
              "      <td>14</td>\n",
              "      <td>11</td>\n",
              "      <td>F</td>\n",
              "      <td>12</td>\n",
              "      <td>11</td>\n",
              "      <td>6</td>\n",
              "      <td>Severe</td>\n",
              "    </tr>\n",
              "    <tr>\n",
              "      <th>6</th>\n",
              "      <td>13</td>\n",
              "      <td>4</td>\n",
              "      <td>F</td>\n",
              "      <td>6</td>\n",
              "      <td>6</td>\n",
              "      <td>6</td>\n",
              "      <td>Severe</td>\n",
              "    </tr>\n",
              "    <tr>\n",
              "      <th>7</th>\n",
              "      <td>14</td>\n",
              "      <td>5</td>\n",
              "      <td>F</td>\n",
              "      <td>6</td>\n",
              "      <td>6</td>\n",
              "      <td>6</td>\n",
              "      <td>Severe</td>\n",
              "    </tr>\n",
              "    <tr>\n",
              "      <th>8</th>\n",
              "      <td>10</td>\n",
              "      <td>3</td>\n",
              "      <td>F</td>\n",
              "      <td>7</td>\n",
              "      <td>6</td>\n",
              "      <td>6</td>\n",
              "      <td>Severe</td>\n",
              "    </tr>\n",
              "    <tr>\n",
              "      <th>9</th>\n",
              "      <td>18</td>\n",
              "      <td>7</td>\n",
              "      <td>F</td>\n",
              "      <td>8</td>\n",
              "      <td>7</td>\n",
              "      <td>0</td>\n",
              "      <td>Severe</td>\n",
              "    </tr>\n",
              "    <tr>\n",
              "      <th>10</th>\n",
              "      <td>15</td>\n",
              "      <td>4</td>\n",
              "      <td>F</td>\n",
              "      <td>10</td>\n",
              "      <td>8</td>\n",
              "      <td>6</td>\n",
              "      <td>Severe</td>\n",
              "    </tr>\n",
              "    <tr>\n",
              "      <th>11</th>\n",
              "      <td>10</td>\n",
              "      <td>3</td>\n",
              "      <td>F</td>\n",
              "      <td>13</td>\n",
              "      <td>12</td>\n",
              "      <td>6</td>\n",
              "      <td>Well</td>\n",
              "    </tr>\n",
              "    <tr>\n",
              "      <th>12</th>\n",
              "      <td>18</td>\n",
              "      <td>9</td>\n",
              "      <td>M</td>\n",
              "      <td>8</td>\n",
              "      <td>7</td>\n",
              "      <td>0</td>\n",
              "      <td>Severe</td>\n",
              "    </tr>\n",
              "    <tr>\n",
              "      <th>13</th>\n",
              "      <td>12</td>\n",
              "      <td>6</td>\n",
              "      <td>F</td>\n",
              "      <td>10</td>\n",
              "      <td>8</td>\n",
              "      <td>6</td>\n",
              "      <td>Severe</td>\n",
              "    </tr>\n",
              "    <tr>\n",
              "      <th>14</th>\n",
              "      <td>9</td>\n",
              "      <td>10</td>\n",
              "      <td>F</td>\n",
              "      <td>8</td>\n",
              "      <td>7</td>\n",
              "      <td>0</td>\n",
              "      <td>Severe</td>\n",
              "    </tr>\n",
              "    <tr>\n",
              "      <th>15</th>\n",
              "      <td>5</td>\n",
              "      <td>9</td>\n",
              "      <td>M</td>\n",
              "      <td>12</td>\n",
              "      <td>11</td>\n",
              "      <td>6</td>\n",
              "      <td>Well</td>\n",
              "    </tr>\n",
              "    <tr>\n",
              "      <th>16</th>\n",
              "      <td>16</td>\n",
              "      <td>11</td>\n",
              "      <td>M</td>\n",
              "      <td>7</td>\n",
              "      <td>6</td>\n",
              "      <td>6</td>\n",
              "      <td>Severe</td>\n",
              "    </tr>\n",
              "    <tr>\n",
              "      <th>17</th>\n",
              "      <td>15</td>\n",
              "      <td>5</td>\n",
              "      <td>M</td>\n",
              "      <td>6</td>\n",
              "      <td>6</td>\n",
              "      <td>6</td>\n",
              "      <td>Severe</td>\n",
              "    </tr>\n",
              "    <tr>\n",
              "      <th>18</th>\n",
              "      <td>17</td>\n",
              "      <td>11</td>\n",
              "      <td>F</td>\n",
              "      <td>15</td>\n",
              "      <td>16</td>\n",
              "      <td>0</td>\n",
              "      <td>Severe</td>\n",
              "    </tr>\n",
              "    <tr>\n",
              "      <th>19</th>\n",
              "      <td>12</td>\n",
              "      <td>3</td>\n",
              "      <td>M</td>\n",
              "      <td>9</td>\n",
              "      <td>7</td>\n",
              "      <td>6</td>\n",
              "      <td>Severe</td>\n",
              "    </tr>\n",
              "    <tr>\n",
              "      <th>20</th>\n",
              "      <td>6</td>\n",
              "      <td>7</td>\n",
              "      <td>M</td>\n",
              "      <td>12</td>\n",
              "      <td>11</td>\n",
              "      <td>6</td>\n",
              "      <td>Well</td>\n",
              "    </tr>\n",
              "    <tr>\n",
              "      <th>21</th>\n",
              "      <td>17</td>\n",
              "      <td>5</td>\n",
              "      <td>M</td>\n",
              "      <td>12</td>\n",
              "      <td>11</td>\n",
              "      <td>6</td>\n",
              "      <td>Severe</td>\n",
              "    </tr>\n",
              "    <tr>\n",
              "      <th>22</th>\n",
              "      <td>5</td>\n",
              "      <td>7</td>\n",
              "      <td>F</td>\n",
              "      <td>6</td>\n",
              "      <td>6</td>\n",
              "      <td>6</td>\n",
              "      <td>Well</td>\n",
              "    </tr>\n",
              "    <tr>\n",
              "      <th>23</th>\n",
              "      <td>8</td>\n",
              "      <td>9</td>\n",
              "      <td>F</td>\n",
              "      <td>12</td>\n",
              "      <td>11</td>\n",
              "      <td>6</td>\n",
              "      <td>Well</td>\n",
              "    </tr>\n",
              "    <tr>\n",
              "      <th>24</th>\n",
              "      <td>8</td>\n",
              "      <td>2</td>\n",
              "      <td>M</td>\n",
              "      <td>8</td>\n",
              "      <td>7</td>\n",
              "      <td>0</td>\n",
              "      <td>Severe</td>\n",
              "    </tr>\n",
              "    <tr>\n",
              "      <th>25</th>\n",
              "      <td>16</td>\n",
              "      <td>4</td>\n",
              "      <td>M</td>\n",
              "      <td>15</td>\n",
              "      <td>16</td>\n",
              "      <td>0</td>\n",
              "      <td>Mild</td>\n",
              "    </tr>\n",
              "    <tr>\n",
              "      <th>26</th>\n",
              "      <td>17</td>\n",
              "      <td>5</td>\n",
              "      <td>M</td>\n",
              "      <td>11</td>\n",
              "      <td>10</td>\n",
              "      <td>0</td>\n",
              "      <td>Severe</td>\n",
              "    </tr>\n",
              "    <tr>\n",
              "      <th>27</th>\n",
              "      <td>14</td>\n",
              "      <td>1</td>\n",
              "      <td>F</td>\n",
              "      <td>9</td>\n",
              "      <td>7</td>\n",
              "      <td>6</td>\n",
              "      <td>Severe</td>\n",
              "    </tr>\n",
              "    <tr>\n",
              "      <th>28</th>\n",
              "      <td>9</td>\n",
              "      <td>8</td>\n",
              "      <td>F</td>\n",
              "      <td>14</td>\n",
              "      <td>14</td>\n",
              "      <td>0</td>\n",
              "      <td>Well</td>\n",
              "    </tr>\n",
              "    <tr>\n",
              "      <th>29</th>\n",
              "      <td>7</td>\n",
              "      <td>4</td>\n",
              "      <td>F</td>\n",
              "      <td>12</td>\n",
              "      <td>11</td>\n",
              "      <td>6</td>\n",
              "      <td>Well</td>\n",
              "    </tr>\n",
              "  </tbody>\n",
              "</table>\n",
              "</div>"
            ],
            "text/plain": [
              "    BAY  BAM Gender  Score  AY  AM     ALD\n",
              "0    13    7      F      8   7   0  Severe\n",
              "1    13   10      F      9   7   6  Severe\n",
              "2     6    0      M     12  11   6    Well\n",
              "3    12    2      M     13  12   6    Good\n",
              "4     7    7      F     12  11   6    Well\n",
              "5    14   11      F     12  11   6  Severe\n",
              "6    13    4      F      6   6   6  Severe\n",
              "7    14    5      F      6   6   6  Severe\n",
              "8    10    3      F      7   6   6  Severe\n",
              "9    18    7      F      8   7   0  Severe\n",
              "10   15    4      F     10   8   6  Severe\n",
              "11   10    3      F     13  12   6    Well\n",
              "12   18    9      M      8   7   0  Severe\n",
              "13   12    6      F     10   8   6  Severe\n",
              "14    9   10      F      8   7   0  Severe\n",
              "15    5    9      M     12  11   6    Well\n",
              "16   16   11      M      7   6   6  Severe\n",
              "17   15    5      M      6   6   6  Severe\n",
              "18   17   11      F     15  16   0  Severe\n",
              "19   12    3      M      9   7   6  Severe\n",
              "20    6    7      M     12  11   6    Well\n",
              "21   17    5      M     12  11   6  Severe\n",
              "22    5    7      F      6   6   6    Well\n",
              "23    8    9      F     12  11   6    Well\n",
              "24    8    2      M      8   7   0  Severe\n",
              "25   16    4      M     15  16   0    Mild\n",
              "26   17    5      M     11  10   0  Severe\n",
              "27   14    1      F      9   7   6  Severe\n",
              "28    9    8      F     14  14   0    Well\n",
              "29    7    4      F     12  11   6    Well"
            ]
          },
          "metadata": {
            "tags": []
          },
          "execution_count": 20
        }
      ]
    },
    {
      "cell_type": "code",
      "metadata": {
        "id": "17V1zAFOhr78"
      },
      "source": [
        "data = data.sample(frac=1).reset_index(drop=True)"
      ],
      "execution_count": 21,
      "outputs": []
    },
    {
      "cell_type": "code",
      "metadata": {
        "id": "Q_Bxu8PAhr9d",
        "outputId": "b49daf9d-aefc-487a-ffb0-5949cbfd2005",
        "colab": {
          "base_uri": "https://localhost:8080/"
        }
      },
      "source": [
        "data.isna().sum()"
      ],
      "execution_count": 22,
      "outputs": [
        {
          "output_type": "execute_result",
          "data": {
            "text/plain": [
              "BAY       0\n",
              "BAM       0\n",
              "Gender    0\n",
              "Score     0\n",
              "AY        0\n",
              "AM        0\n",
              "ALD       0\n",
              "dtype: int64"
            ]
          },
          "metadata": {
            "tags": []
          },
          "execution_count": 22
        }
      ]
    },
    {
      "cell_type": "code",
      "metadata": {
        "id": "g5AgtYsaMxOa"
      },
      "source": [
        "data['BTM'] = data['BAY']*12+data['BAM']\n",
        "data['ATM'] = data['AY']*12+data['AM']"
      ],
      "execution_count": 23,
      "outputs": []
    },
    {
      "cell_type": "code",
      "metadata": {
        "id": "IsBgrKOCNeoG"
      },
      "source": [
        "data = data.drop(['BAY','BAM','AY','AM'], axis=1)"
      ],
      "execution_count": 24,
      "outputs": []
    },
    {
      "cell_type": "code",
      "metadata": {
        "id": "jlb_n9LjNick",
        "outputId": "81270f75-8104-4e21-809f-a89b717bfdbb",
        "colab": {
          "base_uri": "https://localhost:8080/",
          "height": 198
        }
      },
      "source": [
        "data.head()"
      ],
      "execution_count": 25,
      "outputs": [
        {
          "output_type": "execute_result",
          "data": {
            "text/html": [
              "<div>\n",
              "<style scoped>\n",
              "    .dataframe tbody tr th:only-of-type {\n",
              "        vertical-align: middle;\n",
              "    }\n",
              "\n",
              "    .dataframe tbody tr th {\n",
              "        vertical-align: top;\n",
              "    }\n",
              "\n",
              "    .dataframe thead th {\n",
              "        text-align: right;\n",
              "    }\n",
              "</style>\n",
              "<table border=\"1\" class=\"dataframe\">\n",
              "  <thead>\n",
              "    <tr style=\"text-align: right;\">\n",
              "      <th></th>\n",
              "      <th>Gender</th>\n",
              "      <th>Score</th>\n",
              "      <th>ALD</th>\n",
              "      <th>BTM</th>\n",
              "      <th>ATM</th>\n",
              "    </tr>\n",
              "  </thead>\n",
              "  <tbody>\n",
              "    <tr>\n",
              "      <th>0</th>\n",
              "      <td>M</td>\n",
              "      <td>15</td>\n",
              "      <td>Mild</td>\n",
              "      <td>193</td>\n",
              "      <td>192</td>\n",
              "    </tr>\n",
              "    <tr>\n",
              "      <th>1</th>\n",
              "      <td>F</td>\n",
              "      <td>12</td>\n",
              "      <td>Severe</td>\n",
              "      <td>215</td>\n",
              "      <td>138</td>\n",
              "    </tr>\n",
              "    <tr>\n",
              "      <th>2</th>\n",
              "      <td>M</td>\n",
              "      <td>11</td>\n",
              "      <td>Well</td>\n",
              "      <td>79</td>\n",
              "      <td>120</td>\n",
              "    </tr>\n",
              "    <tr>\n",
              "      <th>3</th>\n",
              "      <td>F</td>\n",
              "      <td>8</td>\n",
              "      <td>Severe</td>\n",
              "      <td>150</td>\n",
              "      <td>84</td>\n",
              "    </tr>\n",
              "    <tr>\n",
              "      <th>4</th>\n",
              "      <td>F</td>\n",
              "      <td>14</td>\n",
              "      <td>Well</td>\n",
              "      <td>104</td>\n",
              "      <td>168</td>\n",
              "    </tr>\n",
              "  </tbody>\n",
              "</table>\n",
              "</div>"
            ],
            "text/plain": [
              "  Gender  Score     ALD  BTM  ATM\n",
              "0      M     15    Mild  193  192\n",
              "1      F     12  Severe  215  138\n",
              "2      M     11    Well   79  120\n",
              "3      F      8  Severe  150   84\n",
              "4      F     14    Well  104  168"
            ]
          },
          "metadata": {
            "tags": []
          },
          "execution_count": 25
        }
      ]
    },
    {
      "cell_type": "code",
      "metadata": {
        "id": "AEKMTSCVh86N",
        "outputId": "6df9ecf9-d712-40b5-8afe-0f2871765fdc",
        "colab": {
          "base_uri": "https://localhost:8080/"
        }
      },
      "source": [
        "LE = LabelEncoder()\n",
        "CateList = data.select_dtypes(include=\"object\").columns\n",
        "print(CateList)"
      ],
      "execution_count": 26,
      "outputs": [
        {
          "output_type": "stream",
          "text": [
            "Index(['Gender', 'ALD'], dtype='object')\n"
          ],
          "name": "stdout"
        }
      ]
    },
    {
      "cell_type": "code",
      "metadata": {
        "id": "4Rwfosukh9CT"
      },
      "source": [
        "for i in CateList:\n",
        "    data[i] = LE.fit_transform(data[i])"
      ],
      "execution_count": 27,
      "outputs": []
    },
    {
      "cell_type": "code",
      "metadata": {
        "id": "px8OrS8Bh9Kj",
        "outputId": "74b361b8-0028-4e86-eb50-0ba7a7d23502",
        "colab": {
          "base_uri": "https://localhost:8080/"
        }
      },
      "source": [
        "LE.classes_"
      ],
      "execution_count": 28,
      "outputs": [
        {
          "output_type": "execute_result",
          "data": {
            "text/plain": [
              "array(['Good', 'Mild', 'Neutral', 'Severe', 'Well'], dtype=object)"
            ]
          },
          "metadata": {
            "tags": []
          },
          "execution_count": 28
        }
      ]
    },
    {
      "cell_type": "code",
      "metadata": {
        "id": "6EqXiEc4hsCA",
        "outputId": "5a530d89-a98f-4846-b5b6-064ec13b25c5",
        "colab": {
          "base_uri": "https://localhost:8080/",
          "height": 198
        }
      },
      "source": [
        "data.head()"
      ],
      "execution_count": 29,
      "outputs": [
        {
          "output_type": "execute_result",
          "data": {
            "text/html": [
              "<div>\n",
              "<style scoped>\n",
              "    .dataframe tbody tr th:only-of-type {\n",
              "        vertical-align: middle;\n",
              "    }\n",
              "\n",
              "    .dataframe tbody tr th {\n",
              "        vertical-align: top;\n",
              "    }\n",
              "\n",
              "    .dataframe thead th {\n",
              "        text-align: right;\n",
              "    }\n",
              "</style>\n",
              "<table border=\"1\" class=\"dataframe\">\n",
              "  <thead>\n",
              "    <tr style=\"text-align: right;\">\n",
              "      <th></th>\n",
              "      <th>Gender</th>\n",
              "      <th>Score</th>\n",
              "      <th>ALD</th>\n",
              "      <th>BTM</th>\n",
              "      <th>ATM</th>\n",
              "    </tr>\n",
              "  </thead>\n",
              "  <tbody>\n",
              "    <tr>\n",
              "      <th>0</th>\n",
              "      <td>1</td>\n",
              "      <td>15</td>\n",
              "      <td>1</td>\n",
              "      <td>193</td>\n",
              "      <td>192</td>\n",
              "    </tr>\n",
              "    <tr>\n",
              "      <th>1</th>\n",
              "      <td>0</td>\n",
              "      <td>12</td>\n",
              "      <td>3</td>\n",
              "      <td>215</td>\n",
              "      <td>138</td>\n",
              "    </tr>\n",
              "    <tr>\n",
              "      <th>2</th>\n",
              "      <td>1</td>\n",
              "      <td>11</td>\n",
              "      <td>4</td>\n",
              "      <td>79</td>\n",
              "      <td>120</td>\n",
              "    </tr>\n",
              "    <tr>\n",
              "      <th>3</th>\n",
              "      <td>0</td>\n",
              "      <td>8</td>\n",
              "      <td>3</td>\n",
              "      <td>150</td>\n",
              "      <td>84</td>\n",
              "    </tr>\n",
              "    <tr>\n",
              "      <th>4</th>\n",
              "      <td>0</td>\n",
              "      <td>14</td>\n",
              "      <td>4</td>\n",
              "      <td>104</td>\n",
              "      <td>168</td>\n",
              "    </tr>\n",
              "  </tbody>\n",
              "</table>\n",
              "</div>"
            ],
            "text/plain": [
              "   Gender  Score  ALD  BTM  ATM\n",
              "0       1     15    1  193  192\n",
              "1       0     12    3  215  138\n",
              "2       1     11    4   79  120\n",
              "3       0      8    3  150   84\n",
              "4       0     14    4  104  168"
            ]
          },
          "metadata": {
            "tags": []
          },
          "execution_count": 29
        }
      ]
    },
    {
      "cell_type": "code",
      "metadata": {
        "id": "5CUHfr_kj9aa"
      },
      "source": [
        "data = data.drop(['Gender','ALD','BTM'], axis=1)"
      ],
      "execution_count": 30,
      "outputs": []
    },
    {
      "cell_type": "code",
      "metadata": {
        "id": "BpyND0c5j9k7",
        "outputId": "a7f44b8b-fa01-4862-d6d6-ba2709b4f9bc",
        "colab": {
          "base_uri": "https://localhost:8080/",
          "height": 198
        }
      },
      "source": [
        "data.head()"
      ],
      "execution_count": 31,
      "outputs": [
        {
          "output_type": "execute_result",
          "data": {
            "text/html": [
              "<div>\n",
              "<style scoped>\n",
              "    .dataframe tbody tr th:only-of-type {\n",
              "        vertical-align: middle;\n",
              "    }\n",
              "\n",
              "    .dataframe tbody tr th {\n",
              "        vertical-align: top;\n",
              "    }\n",
              "\n",
              "    .dataframe thead th {\n",
              "        text-align: right;\n",
              "    }\n",
              "</style>\n",
              "<table border=\"1\" class=\"dataframe\">\n",
              "  <thead>\n",
              "    <tr style=\"text-align: right;\">\n",
              "      <th></th>\n",
              "      <th>Score</th>\n",
              "      <th>ATM</th>\n",
              "    </tr>\n",
              "  </thead>\n",
              "  <tbody>\n",
              "    <tr>\n",
              "      <th>0</th>\n",
              "      <td>15</td>\n",
              "      <td>192</td>\n",
              "    </tr>\n",
              "    <tr>\n",
              "      <th>1</th>\n",
              "      <td>12</td>\n",
              "      <td>138</td>\n",
              "    </tr>\n",
              "    <tr>\n",
              "      <th>2</th>\n",
              "      <td>11</td>\n",
              "      <td>120</td>\n",
              "    </tr>\n",
              "    <tr>\n",
              "      <th>3</th>\n",
              "      <td>8</td>\n",
              "      <td>84</td>\n",
              "    </tr>\n",
              "    <tr>\n",
              "      <th>4</th>\n",
              "      <td>14</td>\n",
              "      <td>168</td>\n",
              "    </tr>\n",
              "  </tbody>\n",
              "</table>\n",
              "</div>"
            ],
            "text/plain": [
              "   Score  ATM\n",
              "0     15  192\n",
              "1     12  138\n",
              "2     11  120\n",
              "3      8   84\n",
              "4     14  168"
            ]
          },
          "metadata": {
            "tags": []
          },
          "execution_count": 31
        }
      ]
    },
    {
      "cell_type": "code",
      "metadata": {
        "id": "QBk92wjaqbSx",
        "outputId": "37ae19af-5188-4410-d14f-8fff6fb3dca6",
        "colab": {
          "base_uri": "https://localhost:8080/"
        }
      },
      "source": [
        "data.columns"
      ],
      "execution_count": 32,
      "outputs": [
        {
          "output_type": "execute_result",
          "data": {
            "text/plain": [
              "Index(['Score', 'ATM'], dtype='object')"
            ]
          },
          "metadata": {
            "tags": []
          },
          "execution_count": 32
        }
      ]
    },
    {
      "cell_type": "code",
      "metadata": {
        "id": "Ic9GzrBWhsF6",
        "outputId": "76844483-8f98-47b6-8b73-4d07dd934ee0",
        "colab": {
          "base_uri": "https://localhost:8080/"
        }
      },
      "source": [
        "df = data.iloc[:,:-1]\n",
        "mm = MinMaxScaler()\n",
        "mm.fit(df[:])"
      ],
      "execution_count": 33,
      "outputs": [
        {
          "output_type": "execute_result",
          "data": {
            "text/plain": [
              "MinMaxScaler(copy=True, feature_range=(0, 1))"
            ]
          },
          "metadata": {
            "tags": []
          },
          "execution_count": 33
        }
      ]
    },
    {
      "cell_type": "code",
      "metadata": {
        "id": "Tq9Ju4ljrGha",
        "outputId": "ff7ac399-d0e0-4985-884a-8c366edf5c2b",
        "colab": {
          "base_uri": "https://localhost:8080/"
        }
      },
      "source": [
        "df[:]= mm.transform(df[:])"
      ],
      "execution_count": 34,
      "outputs": [
        {
          "output_type": "stream",
          "text": [
            "/usr/local/lib/python3.6/dist-packages/ipykernel_launcher.py:1: SettingWithCopyWarning: \n",
            "A value is trying to be set on a copy of a slice from a DataFrame.\n",
            "Try using .loc[row_indexer,col_indexer] = value instead\n",
            "\n",
            "See the caveats in the documentation: https://pandas.pydata.org/pandas-docs/stable/user_guide/indexing.html#returning-a-view-versus-a-copy\n",
            "  \"\"\"Entry point for launching an IPython kernel.\n",
            "/usr/local/lib/python3.6/dist-packages/pandas/core/indexing.py:1734: SettingWithCopyWarning: \n",
            "A value is trying to be set on a copy of a slice from a DataFrame.\n",
            "Try using .loc[row_indexer,col_indexer] = value instead\n",
            "\n",
            "See the caveats in the documentation: https://pandas.pydata.org/pandas-docs/stable/user_guide/indexing.html#returning-a-view-versus-a-copy\n",
            "  isetter(loc, value[:, i].tolist())\n"
          ],
          "name": "stderr"
        }
      ]
    },
    {
      "cell_type": "code",
      "metadata": {
        "id": "iDskEd4xiMbP",
        "outputId": "ee9a0528-9cfc-4553-ce36-4ae306325181",
        "colab": {
          "base_uri": "https://localhost:8080/",
          "height": 198
        }
      },
      "source": [
        "df.head()"
      ],
      "execution_count": 35,
      "outputs": [
        {
          "output_type": "execute_result",
          "data": {
            "text/html": [
              "<div>\n",
              "<style scoped>\n",
              "    .dataframe tbody tr th:only-of-type {\n",
              "        vertical-align: middle;\n",
              "    }\n",
              "\n",
              "    .dataframe tbody tr th {\n",
              "        vertical-align: top;\n",
              "    }\n",
              "\n",
              "    .dataframe thead th {\n",
              "        text-align: right;\n",
              "    }\n",
              "</style>\n",
              "<table border=\"1\" class=\"dataframe\">\n",
              "  <thead>\n",
              "    <tr style=\"text-align: right;\">\n",
              "      <th></th>\n",
              "      <th>Score</th>\n",
              "    </tr>\n",
              "  </thead>\n",
              "  <tbody>\n",
              "    <tr>\n",
              "      <th>0</th>\n",
              "      <td>1.000000</td>\n",
              "    </tr>\n",
              "    <tr>\n",
              "      <th>1</th>\n",
              "      <td>0.666667</td>\n",
              "    </tr>\n",
              "    <tr>\n",
              "      <th>2</th>\n",
              "      <td>0.555556</td>\n",
              "    </tr>\n",
              "    <tr>\n",
              "      <th>3</th>\n",
              "      <td>0.222222</td>\n",
              "    </tr>\n",
              "    <tr>\n",
              "      <th>4</th>\n",
              "      <td>0.888889</td>\n",
              "    </tr>\n",
              "  </tbody>\n",
              "</table>\n",
              "</div>"
            ],
            "text/plain": [
              "      Score\n",
              "0  1.000000\n",
              "1  0.666667\n",
              "2  0.555556\n",
              "3  0.222222\n",
              "4  0.888889"
            ]
          },
          "metadata": {
            "tags": []
          },
          "execution_count": 35
        }
      ]
    },
    {
      "cell_type": "code",
      "metadata": {
        "id": "UTQVQEVNiMlK",
        "outputId": "9e0730d0-236a-4811-931e-2b54f1059ef5",
        "colab": {
          "base_uri": "https://localhost:8080/"
        }
      },
      "source": [
        "X = df.values\n",
        "y = data['ATM'].values\n",
        "print(X.shape, y.shape)"
      ],
      "execution_count": 36,
      "outputs": [
        {
          "output_type": "stream",
          "text": [
            "(3360, 1) (3360,)\n"
          ],
          "name": "stdout"
        }
      ]
    },
    {
      "cell_type": "code",
      "metadata": {
        "id": "ufhoNoRTieZg"
      },
      "source": [
        "from sklearn.tree import DecisionTreeRegressor"
      ],
      "execution_count": 37,
      "outputs": []
    },
    {
      "cell_type": "code",
      "metadata": {
        "id": "r5vMYpz8kVQH",
        "outputId": "35b5bbfe-01f9-48a6-a049-846dacd9cef1",
        "colab": {
          "base_uri": "https://localhost:8080/"
        }
      },
      "source": [
        "clf = DecisionTreeRegressor(criterion=\"mse\", splitter=\"best\")\n",
        "clf.fit(X, y)"
      ],
      "execution_count": 38,
      "outputs": [
        {
          "output_type": "execute_result",
          "data": {
            "text/plain": [
              "DecisionTreeRegressor(ccp_alpha=0.0, criterion='mse', max_depth=None,\n",
              "                      max_features=None, max_leaf_nodes=None,\n",
              "                      min_impurity_decrease=0.0, min_impurity_split=None,\n",
              "                      min_samples_leaf=1, min_samples_split=2,\n",
              "                      min_weight_fraction_leaf=0.0, presort='deprecated',\n",
              "                      random_state=None, splitter='best')"
            ]
          },
          "metadata": {
            "tags": []
          },
          "execution_count": 38
        }
      ]
    },
    {
      "cell_type": "code",
      "metadata": {
        "id": "Cj5_A5FxkVUa"
      },
      "source": [
        "pred = clf.predict(X)"
      ],
      "execution_count": 39,
      "outputs": []
    },
    {
      "cell_type": "code",
      "metadata": {
        "id": "csNxlPDxrvx-"
      },
      "source": [
        "from sklearn.metrics import mean_squared_error"
      ],
      "execution_count": 40,
      "outputs": []
    },
    {
      "cell_type": "code",
      "metadata": {
        "id": "CwFh9h8mrpsA"
      },
      "source": [
        "acc = mean_squared_error(y, pred)"
      ],
      "execution_count": 44,
      "outputs": []
    },
    {
      "cell_type": "code",
      "metadata": {
        "id": "hw3F13IXkVXz",
        "outputId": "ff1e4f68-9073-4c99-d18d-d51ac23bfc81",
        "colab": {
          "base_uri": "https://localhost:8080/"
        }
      },
      "source": [
        "print(\"MSE (Decision Tree):\",acc)"
      ],
      "execution_count": 46,
      "outputs": [
        {
          "output_type": "stream",
          "text": [
            "MSE (Decision Tree): 0.843867868116229\n"
          ],
          "name": "stdout"
        }
      ]
    },
    {
      "cell_type": "code",
      "metadata": {
        "id": "4YPb26yEkVS-"
      },
      "source": [
        "from sklearn.externals import joblib "
      ],
      "execution_count": 47,
      "outputs": []
    },
    {
      "cell_type": "code",
      "metadata": {
        "id": "YHwcpBSZltEP"
      },
      "source": [
        "joblib.dump(clf, 'memory1.pkl') \n",
        "loaded_model = joblib.load('memory1.pkl') "
      ],
      "execution_count": 48,
      "outputs": []
    },
    {
      "cell_type": "code",
      "metadata": {
        "id": "uzXquAnnltHj"
      },
      "source": [
        "joblib.dump(mm, 'memory_mm1.pkl')\n",
        "m = joblib.load('memory_mm1.pkl')"
      ],
      "execution_count": 49,
      "outputs": []
    },
    {
      "cell_type": "code",
      "metadata": {
        "id": "sWt3EbC8ltCr",
        "outputId": "f7a77987-d30d-4638-bd77-e80cdd329e38",
        "colab": {
          "base_uri": "https://localhost:8080/"
        }
      },
      "source": [
        "m.data_max_"
      ],
      "execution_count": 50,
      "outputs": [
        {
          "output_type": "execute_result",
          "data": {
            "text/plain": [
              "array([15.])"
            ]
          },
          "metadata": {
            "tags": []
          },
          "execution_count": 50
        }
      ]
    },
    {
      "cell_type": "code",
      "metadata": {
        "id": "Ex7nDgjdiebq",
        "outputId": "7f548820-5d53-4509-91c0-dc3a4c52b26b",
        "colab": {
          "base_uri": "https://localhost:8080/"
        }
      },
      "source": [
        "m.data_min_"
      ],
      "execution_count": 51,
      "outputs": [
        {
          "output_type": "execute_result",
          "data": {
            "text/plain": [
              "array([6.])"
            ]
          },
          "metadata": {
            "tags": []
          },
          "execution_count": 51
        }
      ]
    },
    {
      "cell_type": "code",
      "metadata": {
        "id": "JewivPWuiefK",
        "outputId": "5e352b81-85e7-49e6-df58-580e6d43e7b3",
        "colab": {
          "base_uri": "https://localhost:8080/"
        }
      },
      "source": [
        "df = data.iloc[:,:-1]\n",
        "df[:]= m.transform(df[:])"
      ],
      "execution_count": null,
      "outputs": [
        {
          "output_type": "stream",
          "text": [
            "/usr/local/lib/python3.6/dist-packages/ipykernel_launcher.py:2: SettingWithCopyWarning: \n",
            "A value is trying to be set on a copy of a slice from a DataFrame.\n",
            "Try using .loc[row_indexer,col_indexer] = value instead\n",
            "\n",
            "See the caveats in the documentation: https://pandas.pydata.org/pandas-docs/stable/user_guide/indexing.html#returning-a-view-versus-a-copy\n",
            "  \n",
            "/usr/local/lib/python3.6/dist-packages/pandas/core/indexing.py:1734: SettingWithCopyWarning: \n",
            "A value is trying to be set on a copy of a slice from a DataFrame.\n",
            "Try using .loc[row_indexer,col_indexer] = value instead\n",
            "\n",
            "See the caveats in the documentation: https://pandas.pydata.org/pandas-docs/stable/user_guide/indexing.html#returning-a-view-versus-a-copy\n",
            "  isetter(loc, value[:, i].tolist())\n"
          ],
          "name": "stderr"
        }
      ]
    },
    {
      "cell_type": "code",
      "metadata": {
        "id": "scY0J31mmlZL",
        "outputId": "1ea73852-1908-40d8-a194-22996b35dbfa",
        "colab": {
          "base_uri": "https://localhost:8080/"
        }
      },
      "source": [
        "X = df.values\n",
        "y = data['ATM'].values\n",
        "print(X.shape, y.shape)"
      ],
      "execution_count": null,
      "outputs": [
        {
          "output_type": "stream",
          "text": [
            "(3360, 1) (3360,)\n"
          ],
          "name": "stdout"
        }
      ]
    },
    {
      "cell_type": "code",
      "metadata": {
        "id": "4wYcq6F0mlcd"
      },
      "source": [
        "pred = loaded_model.predict(X)"
      ],
      "execution_count": null,
      "outputs": []
    },
    {
      "cell_type": "code",
      "metadata": {
        "id": "lxCSYsz5iNAY",
        "outputId": "b43003ee-5b6e-4af4-8bfa-68b5c748e58e",
        "colab": {
          "base_uri": "https://localhost:8080/"
        }
      },
      "source": [
        "mean_squared_error(y, pred)"
      ],
      "execution_count": null,
      "outputs": [
        {
          "output_type": "execute_result",
          "data": {
            "text/plain": [
              "0.843867868116229"
            ]
          },
          "metadata": {
            "tags": []
          },
          "execution_count": 168
        }
      ]
    }
  ]
}