{
  "nbformat": 4,
  "nbformat_minor": 0,
  "metadata": {
    "colab": {
      "name": "Memory Dataset Analysis.ipynb",
      "provenance": [],
      "collapsed_sections": []
    },
    "kernelspec": {
      "name": "python3",
      "display_name": "Python 3"
    }
  },
  "cells": [
    {
      "cell_type": "markdown",
      "metadata": {
        "id": "U_tcuiFmIToA"
      },
      "source": [
        "#Chronic Kidney Disease\n",
        "\n",
        "# Objective: To implement various classification models and ensemble them to classify Chronic Kidney Disease as infected or not\n",
        "\n",
        "## Dataset\n",
        "The data was taken over a 2-month period in India with 25 features ( eg, red blood cell count, white blood cell count, etc). The target is the 'classification', which is either 'ckd' or 'notckd' - ckd=chronic kidney disease.\n",
        "\n",
        "## Attributes\n",
        "1.\tAge(numerical)\n",
        "age in years\n",
        "2.\tBlood Pressure(numerical)\n",
        "bp in mm/Hg\n",
        "3.\tSpecific Gravity(nominal)\n",
        "sg - (1.005,1.010,1.015,1.020,1.025)\n",
        "4.\tAlbumin(nominal)\n",
        "al - (0,1,2,3,4,5)\n",
        "5.\tSugar(nominal)\n",
        "su - (0,1,2,3,4,5)\n",
        "6.\tRed Blood Cells(nominal)\n",
        "rbc - (normal,abnormal)\n",
        "7.\tPus Cell (nominal)\n",
        "pc - (normal,abnormal)\n",
        "8.\tPus Cell clumps(nominal)\n",
        "pcc - (present,notpresent)\n",
        "9.\tBacteria(nominal)\n",
        "ba - (present,notpresent)\n",
        "10.\tBlood Glucose Random(numerical)\n",
        "bgr in mgs/dl\n",
        "11.\tBlood Urea(numerical)\n",
        "bu in mgs/dl\n",
        "12.\tSerum Creatinine(numerical)\n",
        "sc in mgs/dl\n",
        "13.\tSodium(numerical)\n",
        "sod in mEq/L\n",
        "14.\tPotassium(numerical)\n",
        "pot in mEq/L\n",
        "15.\tHemoglobin(numerical)\n",
        "hemo in gms\n",
        "16.\tPacked Cell Volume(numerical)\n",
        "17.\tWhite Blood Cell Count(numerical)\n",
        "wc in cells/cumm\n",
        "18.\tRed Blood Cell Count(numerical)\n",
        "rc in millions/cmm\n",
        "19.\tHypertension(nominal)\n",
        "htn - (yes,no)\n",
        "20.\tDiabetes Mellitus(nominal)\n",
        "dm - (yes,no)\n",
        "21.\tCoronary Artery Disease(nominal)\n",
        "cad - (yes,no)\n",
        "22.\tAppetite(nominal)\n",
        "appet - (good,poor)\n",
        "23.\tPedal Edema(nominal)\n",
        "pe - (yes,no)\n",
        "24.\tAnemia(nominal)\n",
        "ane - (yes,no)\n",
        "\n",
        "## Target Class\n",
        "Class (nominal)\n",
        "class - (ckd,notckd)\n",
        "\n",
        "## Source: https://archive.ics.uci.edu/ml/datasets/Chronic_Kidney_Disease\n",
        "\n",
        "Tasks:\n",
        "1.\tObtain the dataset\n",
        "2.\tApply pre-processing techniques (if any)\n",
        "3.\tDivide dataset into training and testing set, respectively.\n",
        "4.\tImplement SVM, Logistic regression, Decision tree and KNN models.\n",
        "5.\tEnsemble SVM, Logistic regression, Decision tree and KNN models. \n",
        "6.\tEvaluate accuracy, precision, recall and f-measure for all models.\n",
        "7.\tPlot the results by playing with the hyper-parameters of the afore-mentioned models.\n",
        "8.\tConclude the results\n",
        "\n",
        "\n",
        "Helpful links: \n",
        "\n",
        "https://scikit-learn.org/stable/modules/ensemble.html\n",
        "\n",
        "https://www.analyticsvidhya.com/blog/2018/06/comprehensive-guide-for-ensemble-models/\n",
        "\n",
        "https://machinelearningmastery.com/ensemble-machine-learning-algorithms-python-scikit-learn/\n",
        "\n",
        "https://scikit-learn.org/stable/modules/ensemble.html\n",
        "\n",
        "https://www.datacamp.com/community/tutorials/ensemble-learning-python\n",
        "\n",
        "\n",
        "\n",
        "\n",
        "\n"
      ]
    },
    {
      "cell_type": "markdown",
      "metadata": {
        "id": "1yGvcerZa0S8"
      },
      "source": [
        "## Task 1: Implement classification models on Chronic Kidney Disease dataset "
      ]
    },
    {
      "cell_type": "code",
      "metadata": {
        "id": "Duh_Q74qIidS"
      },
      "source": [
        "# Load the libraries\n",
        "import pandas as pd\n",
        "import numpy as np\n",
        "from sklearn.model_selection import train_test_split\n",
        "from sklearn.metrics import accuracy_score\n",
        "from sklearn.metrics import precision_recall_fscore_support\n",
        "from sklearn.preprocessing import MinMaxScaler, LabelEncoder\n",
        "import matplotlib.pyplot as plt"
      ],
      "execution_count": 1,
      "outputs": []
    },
    {
      "cell_type": "code",
      "metadata": {
        "id": "SyioH2iYIjhk",
        "outputId": "c4a23028-8a08-4258-8c50-db512f7bfd90",
        "colab": {
          "base_uri": "https://localhost:8080/",
          "height": 935
        }
      },
      "source": [
        "# Load the dataset \n",
        "data = pd.read_csv('passage.csv')\n",
        "data.head(30)"
      ],
      "execution_count": 181,
      "outputs": [
        {
          "output_type": "execute_result",
          "data": {
            "text/html": [
              "<div>\n",
              "<style scoped>\n",
              "    .dataframe tbody tr th:only-of-type {\n",
              "        vertical-align: middle;\n",
              "    }\n",
              "\n",
              "    .dataframe tbody tr th {\n",
              "        vertical-align: top;\n",
              "    }\n",
              "\n",
              "    .dataframe thead th {\n",
              "        text-align: right;\n",
              "    }\n",
              "</style>\n",
              "<table border=\"1\" class=\"dataframe\">\n",
              "  <thead>\n",
              "    <tr style=\"text-align: right;\">\n",
              "      <th></th>\n",
              "      <th>Passage</th>\n",
              "      <th>Score</th>\n",
              "      <th>Time</th>\n",
              "      <th>D</th>\n",
              "    </tr>\n",
              "  </thead>\n",
              "  <tbody>\n",
              "    <tr>\n",
              "      <th>0</th>\n",
              "      <td>1</td>\n",
              "      <td>0.0</td>\n",
              "      <td>1</td>\n",
              "      <td>Yes</td>\n",
              "    </tr>\n",
              "    <tr>\n",
              "      <th>1</th>\n",
              "      <td>1</td>\n",
              "      <td>0.0</td>\n",
              "      <td>2</td>\n",
              "      <td>Yes</td>\n",
              "    </tr>\n",
              "    <tr>\n",
              "      <th>2</th>\n",
              "      <td>1</td>\n",
              "      <td>0.0</td>\n",
              "      <td>4</td>\n",
              "      <td>Yes</td>\n",
              "    </tr>\n",
              "    <tr>\n",
              "      <th>3</th>\n",
              "      <td>1</td>\n",
              "      <td>0.0</td>\n",
              "      <td>6</td>\n",
              "      <td>Yes</td>\n",
              "    </tr>\n",
              "    <tr>\n",
              "      <th>4</th>\n",
              "      <td>1</td>\n",
              "      <td>0.0</td>\n",
              "      <td>8</td>\n",
              "      <td>Yes</td>\n",
              "    </tr>\n",
              "    <tr>\n",
              "      <th>5</th>\n",
              "      <td>1</td>\n",
              "      <td>0.0</td>\n",
              "      <td>10</td>\n",
              "      <td>Yes</td>\n",
              "    </tr>\n",
              "    <tr>\n",
              "      <th>6</th>\n",
              "      <td>1</td>\n",
              "      <td>2.5</td>\n",
              "      <td>1</td>\n",
              "      <td>Yes</td>\n",
              "    </tr>\n",
              "    <tr>\n",
              "      <th>7</th>\n",
              "      <td>1</td>\n",
              "      <td>2.5</td>\n",
              "      <td>2</td>\n",
              "      <td>Yes</td>\n",
              "    </tr>\n",
              "    <tr>\n",
              "      <th>8</th>\n",
              "      <td>1</td>\n",
              "      <td>2.5</td>\n",
              "      <td>4</td>\n",
              "      <td>Yes</td>\n",
              "    </tr>\n",
              "    <tr>\n",
              "      <th>9</th>\n",
              "      <td>1</td>\n",
              "      <td>2.5</td>\n",
              "      <td>6</td>\n",
              "      <td>Yes</td>\n",
              "    </tr>\n",
              "    <tr>\n",
              "      <th>10</th>\n",
              "      <td>1</td>\n",
              "      <td>2.5</td>\n",
              "      <td>8</td>\n",
              "      <td>Yes</td>\n",
              "    </tr>\n",
              "    <tr>\n",
              "      <th>11</th>\n",
              "      <td>1</td>\n",
              "      <td>2.5</td>\n",
              "      <td>10</td>\n",
              "      <td>Yes</td>\n",
              "    </tr>\n",
              "    <tr>\n",
              "      <th>12</th>\n",
              "      <td>1</td>\n",
              "      <td>5.0</td>\n",
              "      <td>1</td>\n",
              "      <td>Mild</td>\n",
              "    </tr>\n",
              "    <tr>\n",
              "      <th>13</th>\n",
              "      <td>1</td>\n",
              "      <td>5.0</td>\n",
              "      <td>2</td>\n",
              "      <td>Mild</td>\n",
              "    </tr>\n",
              "    <tr>\n",
              "      <th>14</th>\n",
              "      <td>1</td>\n",
              "      <td>5.0</td>\n",
              "      <td>4</td>\n",
              "      <td>Mild</td>\n",
              "    </tr>\n",
              "    <tr>\n",
              "      <th>15</th>\n",
              "      <td>1</td>\n",
              "      <td>5.0</td>\n",
              "      <td>6</td>\n",
              "      <td>Mild</td>\n",
              "    </tr>\n",
              "    <tr>\n",
              "      <th>16</th>\n",
              "      <td>1</td>\n",
              "      <td>5.0</td>\n",
              "      <td>8</td>\n",
              "      <td>Mild</td>\n",
              "    </tr>\n",
              "    <tr>\n",
              "      <th>17</th>\n",
              "      <td>1</td>\n",
              "      <td>5.0</td>\n",
              "      <td>10</td>\n",
              "      <td>Mild</td>\n",
              "    </tr>\n",
              "    <tr>\n",
              "      <th>18</th>\n",
              "      <td>1</td>\n",
              "      <td>7.5</td>\n",
              "      <td>1</td>\n",
              "      <td>No</td>\n",
              "    </tr>\n",
              "    <tr>\n",
              "      <th>19</th>\n",
              "      <td>1</td>\n",
              "      <td>7.5</td>\n",
              "      <td>2</td>\n",
              "      <td>No</td>\n",
              "    </tr>\n",
              "    <tr>\n",
              "      <th>20</th>\n",
              "      <td>1</td>\n",
              "      <td>7.5</td>\n",
              "      <td>4</td>\n",
              "      <td>No</td>\n",
              "    </tr>\n",
              "    <tr>\n",
              "      <th>21</th>\n",
              "      <td>1</td>\n",
              "      <td>7.5</td>\n",
              "      <td>6</td>\n",
              "      <td>No</td>\n",
              "    </tr>\n",
              "    <tr>\n",
              "      <th>22</th>\n",
              "      <td>1</td>\n",
              "      <td>7.5</td>\n",
              "      <td>8</td>\n",
              "      <td>No</td>\n",
              "    </tr>\n",
              "    <tr>\n",
              "      <th>23</th>\n",
              "      <td>1</td>\n",
              "      <td>7.5</td>\n",
              "      <td>10</td>\n",
              "      <td>No</td>\n",
              "    </tr>\n",
              "    <tr>\n",
              "      <th>24</th>\n",
              "      <td>1</td>\n",
              "      <td>10.0</td>\n",
              "      <td>1</td>\n",
              "      <td>No</td>\n",
              "    </tr>\n",
              "    <tr>\n",
              "      <th>25</th>\n",
              "      <td>1</td>\n",
              "      <td>10.0</td>\n",
              "      <td>2</td>\n",
              "      <td>No</td>\n",
              "    </tr>\n",
              "    <tr>\n",
              "      <th>26</th>\n",
              "      <td>1</td>\n",
              "      <td>10.0</td>\n",
              "      <td>4</td>\n",
              "      <td>No</td>\n",
              "    </tr>\n",
              "    <tr>\n",
              "      <th>27</th>\n",
              "      <td>1</td>\n",
              "      <td>10.0</td>\n",
              "      <td>6</td>\n",
              "      <td>No</td>\n",
              "    </tr>\n",
              "    <tr>\n",
              "      <th>28</th>\n",
              "      <td>1</td>\n",
              "      <td>10.0</td>\n",
              "      <td>8</td>\n",
              "      <td>No</td>\n",
              "    </tr>\n",
              "    <tr>\n",
              "      <th>29</th>\n",
              "      <td>1</td>\n",
              "      <td>10.0</td>\n",
              "      <td>10</td>\n",
              "      <td>No</td>\n",
              "    </tr>\n",
              "  </tbody>\n",
              "</table>\n",
              "</div>"
            ],
            "text/plain": [
              "    Passage  Score  Time     D\n",
              "0         1    0.0     1   Yes\n",
              "1         1    0.0     2   Yes\n",
              "2         1    0.0     4   Yes\n",
              "3         1    0.0     6   Yes\n",
              "4         1    0.0     8   Yes\n",
              "5         1    0.0    10   Yes\n",
              "6         1    2.5     1   Yes\n",
              "7         1    2.5     2   Yes\n",
              "8         1    2.5     4   Yes\n",
              "9         1    2.5     6   Yes\n",
              "10        1    2.5     8   Yes\n",
              "11        1    2.5    10   Yes\n",
              "12        1    5.0     1  Mild\n",
              "13        1    5.0     2  Mild\n",
              "14        1    5.0     4  Mild\n",
              "15        1    5.0     6  Mild\n",
              "16        1    5.0     8  Mild\n",
              "17        1    5.0    10  Mild\n",
              "18        1    7.5     1    No\n",
              "19        1    7.5     2    No\n",
              "20        1    7.5     4    No\n",
              "21        1    7.5     6    No\n",
              "22        1    7.5     8    No\n",
              "23        1    7.5    10    No\n",
              "24        1   10.0     1    No\n",
              "25        1   10.0     2    No\n",
              "26        1   10.0     4    No\n",
              "27        1   10.0     6    No\n",
              "28        1   10.0     8    No\n",
              "29        1   10.0    10    No"
            ]
          },
          "metadata": {
            "tags": []
          },
          "execution_count": 181
        }
      ]
    },
    {
      "cell_type": "code",
      "metadata": {
        "id": "N-p3WOLL3vh3",
        "outputId": "b197cec4-6009-451f-f01b-9277628ac05e",
        "colab": {
          "base_uri": "https://localhost:8080/"
        }
      },
      "source": [
        "data['D'].value_counts()"
      ],
      "execution_count": 182,
      "outputs": [
        {
          "output_type": "execute_result",
          "data": {
            "text/plain": [
              "Yes     84\n",
              "No      84\n",
              "Mild    78\n",
              "Name: D, dtype: int64"
            ]
          },
          "metadata": {
            "tags": []
          },
          "execution_count": 182
        }
      ]
    },
    {
      "cell_type": "code",
      "metadata": {
        "id": "G8OzVwLi1UWL"
      },
      "source": [
        "# Shuffel the dataset\n",
        "data = data.sample(frac=1).reset_index(drop=True)"
      ],
      "execution_count": 183,
      "outputs": []
    },
    {
      "cell_type": "code",
      "metadata": {
        "id": "5VZX4YoAGFi6",
        "outputId": "661da687-492e-467b-cbbc-058ca0daa07b",
        "colab": {
          "base_uri": "https://localhost:8080/",
          "height": 195
        }
      },
      "source": [
        "data.head()"
      ],
      "execution_count": 184,
      "outputs": [
        {
          "output_type": "execute_result",
          "data": {
            "text/html": [
              "<div>\n",
              "<style scoped>\n",
              "    .dataframe tbody tr th:only-of-type {\n",
              "        vertical-align: middle;\n",
              "    }\n",
              "\n",
              "    .dataframe tbody tr th {\n",
              "        vertical-align: top;\n",
              "    }\n",
              "\n",
              "    .dataframe thead th {\n",
              "        text-align: right;\n",
              "    }\n",
              "</style>\n",
              "<table border=\"1\" class=\"dataframe\">\n",
              "  <thead>\n",
              "    <tr style=\"text-align: right;\">\n",
              "      <th></th>\n",
              "      <th>Passage</th>\n",
              "      <th>Score</th>\n",
              "      <th>Time</th>\n",
              "      <th>D</th>\n",
              "    </tr>\n",
              "  </thead>\n",
              "  <tbody>\n",
              "    <tr>\n",
              "      <th>0</th>\n",
              "      <td>1</td>\n",
              "      <td>5.0</td>\n",
              "      <td>2</td>\n",
              "      <td>Mild</td>\n",
              "    </tr>\n",
              "    <tr>\n",
              "      <th>1</th>\n",
              "      <td>3</td>\n",
              "      <td>0.0</td>\n",
              "      <td>6</td>\n",
              "      <td>Yes</td>\n",
              "    </tr>\n",
              "    <tr>\n",
              "      <th>2</th>\n",
              "      <td>7</td>\n",
              "      <td>4.0</td>\n",
              "      <td>10</td>\n",
              "      <td>Mild</td>\n",
              "    </tr>\n",
              "    <tr>\n",
              "      <th>3</th>\n",
              "      <td>1</td>\n",
              "      <td>2.5</td>\n",
              "      <td>4</td>\n",
              "      <td>Yes</td>\n",
              "    </tr>\n",
              "    <tr>\n",
              "      <th>4</th>\n",
              "      <td>2</td>\n",
              "      <td>10.0</td>\n",
              "      <td>4</td>\n",
              "      <td>No</td>\n",
              "    </tr>\n",
              "  </tbody>\n",
              "</table>\n",
              "</div>"
            ],
            "text/plain": [
              "   Passage  Score  Time     D\n",
              "0        1    5.0     2  Mild\n",
              "1        3    0.0     6   Yes\n",
              "2        7    4.0    10  Mild\n",
              "3        1    2.5     4   Yes\n",
              "4        2   10.0     4    No"
            ]
          },
          "metadata": {
            "tags": []
          },
          "execution_count": 184
        }
      ]
    },
    {
      "cell_type": "code",
      "metadata": {
        "id": "vtfupr9JInhf",
        "outputId": "1a6cbd22-1948-4a5b-d621-9a378cdefe8b",
        "colab": {
          "base_uri": "https://localhost:8080/"
        }
      },
      "source": [
        "# Preprocessing\n",
        "# Encoding categorical variables (if any)\n",
        "# Feature Scaling\n",
        "# Filling missing values (if any)\n",
        "data.isna().sum()"
      ],
      "execution_count": 185,
      "outputs": [
        {
          "output_type": "execute_result",
          "data": {
            "text/plain": [
              "Passage    0\n",
              "Score      0\n",
              "Time       0\n",
              "D          0\n",
              "dtype: int64"
            ]
          },
          "metadata": {
            "tags": []
          },
          "execution_count": 185
        }
      ]
    },
    {
      "cell_type": "code",
      "metadata": {
        "id": "rN-0svAZ2AC-"
      },
      "source": [
        "# Imputing Missing Values\n",
        "from sklearn.base import TransformerMixin\n",
        "\n",
        "class DataFrameImputer(TransformerMixin):\n",
        "\n",
        "    def __init__(self):\n",
        "        \"\"\"Impute missing values.\n",
        "\n",
        "        Columns of dtype object are imputed with the most frequent value \n",
        "        in column.\n",
        "\n",
        "        Columns of other types are imputed with mean of column.\n",
        "\n",
        "        \"\"\"\n",
        "    def fit(self, X, y=None):\n",
        "\n",
        "        self.fill = pd.Series([X[c].value_counts().index[0]\n",
        "            if X[c].dtype == np.dtype('O') else X[c].mean() for c in X],\n",
        "            index=X.columns)\n",
        "\n",
        "        return self\n",
        "\n",
        "    def transform(self, X, y=None):\n",
        "        return X.fillna(self.fill)"
      ],
      "execution_count": 186,
      "outputs": []
    },
    {
      "cell_type": "code",
      "metadata": {
        "id": "BOLJVCKm2Kpc"
      },
      "source": [
        "X = pd.DataFrame(data)\n",
        "data = DataFrameImputer().fit_transform(X)"
      ],
      "execution_count": 187,
      "outputs": []
    },
    {
      "cell_type": "code",
      "metadata": {
        "id": "nt3anEsX2NiC",
        "outputId": "8096f8ec-8ed6-4c87-94e8-5e0a932fc773",
        "colab": {
          "base_uri": "https://localhost:8080/"
        }
      },
      "source": [
        "data.isna().sum()"
      ],
      "execution_count": 188,
      "outputs": [
        {
          "output_type": "execute_result",
          "data": {
            "text/plain": [
              "Passage    0\n",
              "Score      0\n",
              "Time       0\n",
              "D          0\n",
              "dtype: int64"
            ]
          },
          "metadata": {
            "tags": []
          },
          "execution_count": 188
        }
      ]
    },
    {
      "cell_type": "code",
      "metadata": {
        "id": "wYLUUcNB2Tbo",
        "outputId": "b45a369c-b24a-450a-ced1-c523e903ec05",
        "colab": {
          "base_uri": "https://localhost:8080/"
        }
      },
      "source": [
        "LE = LabelEncoder()\n",
        "CateList = data.select_dtypes(exclude=\"int64\").columns\n",
        "print(CateList)"
      ],
      "execution_count": 189,
      "outputs": [
        {
          "output_type": "stream",
          "text": [
            "Index(['Score', 'D'], dtype='object')\n"
          ],
          "name": "stdout"
        }
      ]
    },
    {
      "cell_type": "code",
      "metadata": {
        "id": "ZpjXAapl2gxD"
      },
      "source": [
        "for i in ['D']:\n",
        "    data[i] = LE.fit_transform(data[i])"
      ],
      "execution_count": 190,
      "outputs": []
    },
    {
      "cell_type": "code",
      "metadata": {
        "id": "Z0MnXJ6d28cQ",
        "outputId": "c153f403-6f2c-45d5-836a-8740730f4be7",
        "colab": {
          "base_uri": "https://localhost:8080/",
          "height": 195
        }
      },
      "source": [
        "data.head()"
      ],
      "execution_count": 191,
      "outputs": [
        {
          "output_type": "execute_result",
          "data": {
            "text/html": [
              "<div>\n",
              "<style scoped>\n",
              "    .dataframe tbody tr th:only-of-type {\n",
              "        vertical-align: middle;\n",
              "    }\n",
              "\n",
              "    .dataframe tbody tr th {\n",
              "        vertical-align: top;\n",
              "    }\n",
              "\n",
              "    .dataframe thead th {\n",
              "        text-align: right;\n",
              "    }\n",
              "</style>\n",
              "<table border=\"1\" class=\"dataframe\">\n",
              "  <thead>\n",
              "    <tr style=\"text-align: right;\">\n",
              "      <th></th>\n",
              "      <th>Passage</th>\n",
              "      <th>Score</th>\n",
              "      <th>Time</th>\n",
              "      <th>D</th>\n",
              "    </tr>\n",
              "  </thead>\n",
              "  <tbody>\n",
              "    <tr>\n",
              "      <th>0</th>\n",
              "      <td>1</td>\n",
              "      <td>5.0</td>\n",
              "      <td>2</td>\n",
              "      <td>0</td>\n",
              "    </tr>\n",
              "    <tr>\n",
              "      <th>1</th>\n",
              "      <td>3</td>\n",
              "      <td>0.0</td>\n",
              "      <td>6</td>\n",
              "      <td>2</td>\n",
              "    </tr>\n",
              "    <tr>\n",
              "      <th>2</th>\n",
              "      <td>7</td>\n",
              "      <td>4.0</td>\n",
              "      <td>10</td>\n",
              "      <td>0</td>\n",
              "    </tr>\n",
              "    <tr>\n",
              "      <th>3</th>\n",
              "      <td>1</td>\n",
              "      <td>2.5</td>\n",
              "      <td>4</td>\n",
              "      <td>2</td>\n",
              "    </tr>\n",
              "    <tr>\n",
              "      <th>4</th>\n",
              "      <td>2</td>\n",
              "      <td>10.0</td>\n",
              "      <td>4</td>\n",
              "      <td>1</td>\n",
              "    </tr>\n",
              "  </tbody>\n",
              "</table>\n",
              "</div>"
            ],
            "text/plain": [
              "   Passage  Score  Time  D\n",
              "0        1    5.0     2  0\n",
              "1        3    0.0     6  2\n",
              "2        7    4.0    10  0\n",
              "3        1    2.5     4  2\n",
              "4        2   10.0     4  1"
            ]
          },
          "metadata": {
            "tags": []
          },
          "execution_count": 191
        }
      ]
    },
    {
      "cell_type": "code",
      "metadata": {
        "id": "audhtftk3JY3",
        "outputId": "1571d8f5-4521-48ed-c796-4a1ae3f19c99",
        "colab": {
          "base_uri": "https://localhost:8080/"
        }
      },
      "source": [
        "LE.classes_"
      ],
      "execution_count": 192,
      "outputs": [
        {
          "output_type": "execute_result",
          "data": {
            "text/plain": [
              "array(['Mild', 'No', 'Yes'], dtype=object)"
            ]
          },
          "metadata": {
            "tags": []
          },
          "execution_count": 192
        }
      ]
    },
    {
      "cell_type": "code",
      "metadata": {
        "id": "186703QkKt3q"
      },
      "source": [
        "df = data.iloc[:,:-1]\n",
        "mm = MinMaxScaler()\n",
        "df[:]= mm.fit(df[:])"
      ],
      "execution_count": 193,
      "outputs": []
    },
    {
      "cell_type": "code",
      "metadata": {
        "id": "kP6fAm9xKuBo",
        "outputId": "dcc33d71-f209-4971-8521-a851e253d528",
        "colab": {
          "base_uri": "https://localhost:8080/",
          "height": 195
        }
      },
      "source": [
        "df.head()"
      ],
      "execution_count": 194,
      "outputs": [
        {
          "output_type": "execute_result",
          "data": {
            "text/html": [
              "<div>\n",
              "<style scoped>\n",
              "    .dataframe tbody tr th:only-of-type {\n",
              "        vertical-align: middle;\n",
              "    }\n",
              "\n",
              "    .dataframe tbody tr th {\n",
              "        vertical-align: top;\n",
              "    }\n",
              "\n",
              "    .dataframe thead th {\n",
              "        text-align: right;\n",
              "    }\n",
              "</style>\n",
              "<table border=\"1\" class=\"dataframe\">\n",
              "  <thead>\n",
              "    <tr style=\"text-align: right;\">\n",
              "      <th></th>\n",
              "      <th>Passage</th>\n",
              "      <th>Score</th>\n",
              "      <th>Time</th>\n",
              "    </tr>\n",
              "  </thead>\n",
              "  <tbody>\n",
              "    <tr>\n",
              "      <th>0</th>\n",
              "      <td>MinMaxScaler(copy=True, feature_range=(0, 1))</td>\n",
              "      <td>MinMaxScaler(copy=True, feature_range=(0, 1))</td>\n",
              "      <td>MinMaxScaler(copy=True, feature_range=(0, 1))</td>\n",
              "    </tr>\n",
              "    <tr>\n",
              "      <th>1</th>\n",
              "      <td>MinMaxScaler(copy=True, feature_range=(0, 1))</td>\n",
              "      <td>MinMaxScaler(copy=True, feature_range=(0, 1))</td>\n",
              "      <td>MinMaxScaler(copy=True, feature_range=(0, 1))</td>\n",
              "    </tr>\n",
              "    <tr>\n",
              "      <th>2</th>\n",
              "      <td>MinMaxScaler(copy=True, feature_range=(0, 1))</td>\n",
              "      <td>MinMaxScaler(copy=True, feature_range=(0, 1))</td>\n",
              "      <td>MinMaxScaler(copy=True, feature_range=(0, 1))</td>\n",
              "    </tr>\n",
              "    <tr>\n",
              "      <th>3</th>\n",
              "      <td>MinMaxScaler(copy=True, feature_range=(0, 1))</td>\n",
              "      <td>MinMaxScaler(copy=True, feature_range=(0, 1))</td>\n",
              "      <td>MinMaxScaler(copy=True, feature_range=(0, 1))</td>\n",
              "    </tr>\n",
              "    <tr>\n",
              "      <th>4</th>\n",
              "      <td>MinMaxScaler(copy=True, feature_range=(0, 1))</td>\n",
              "      <td>MinMaxScaler(copy=True, feature_range=(0, 1))</td>\n",
              "      <td>MinMaxScaler(copy=True, feature_range=(0, 1))</td>\n",
              "    </tr>\n",
              "  </tbody>\n",
              "</table>\n",
              "</div>"
            ],
            "text/plain": [
              "                                         Passage  ...                                           Time\n",
              "0  MinMaxScaler(copy=True, feature_range=(0, 1))  ...  MinMaxScaler(copy=True, feature_range=(0, 1))\n",
              "1  MinMaxScaler(copy=True, feature_range=(0, 1))  ...  MinMaxScaler(copy=True, feature_range=(0, 1))\n",
              "2  MinMaxScaler(copy=True, feature_range=(0, 1))  ...  MinMaxScaler(copy=True, feature_range=(0, 1))\n",
              "3  MinMaxScaler(copy=True, feature_range=(0, 1))  ...  MinMaxScaler(copy=True, feature_range=(0, 1))\n",
              "4  MinMaxScaler(copy=True, feature_range=(0, 1))  ...  MinMaxScaler(copy=True, feature_range=(0, 1))\n",
              "\n",
              "[5 rows x 3 columns]"
            ]
          },
          "metadata": {
            "tags": []
          },
          "execution_count": 194
        }
      ]
    },
    {
      "cell_type": "code",
      "metadata": {
        "id": "13owZH7mIpZp",
        "outputId": "2920a8f8-0ff9-4306-db17-5f9a8f8e73c1",
        "colab": {
          "base_uri": "https://localhost:8080/"
        }
      },
      "source": [
        "# Divide the dataset to training and testing set\n",
        "X = df.values\n",
        "y = data['D'].values\n",
        "print(X.shape, y.shape)"
      ],
      "execution_count": 109,
      "outputs": [
        {
          "output_type": "stream",
          "text": [
            "(246, 3) (246,)\n"
          ],
          "name": "stdout"
        }
      ]
    },
    {
      "cell_type": "code",
      "metadata": {
        "id": "5UNp6Czc4VFs"
      },
      "source": [
        "X_train, X_test, y_train, y_test = train_test_split(X, y, test_size = 0.25, random_state = 123)"
      ],
      "execution_count": 110,
      "outputs": []
    },
    {
      "cell_type": "code",
      "metadata": {
        "id": "TPBPJYw04WE6",
        "outputId": "82e79252-d0b0-4e99-8027-3607fde0fcc2",
        "colab": {
          "base_uri": "https://localhost:8080/"
        }
      },
      "source": [
        "print(X_train.shape, y_train.shape)\n",
        "print(X_test.shape, y_test.shape)"
      ],
      "execution_count": 111,
      "outputs": [
        {
          "output_type": "stream",
          "text": [
            "(184, 3) (184,)\n",
            "(62, 3) (62,)\n"
          ],
          "name": "stdout"
        }
      ]
    },
    {
      "cell_type": "code",
      "metadata": {
        "id": "sMw5hKX347Mh"
      },
      "source": [
        "from sklearn.svm import SVC\n",
        "from sklearn.linear_model import LogisticRegression\n",
        "from sklearn.tree import DecisionTreeClassifier\n",
        "from sklearn.neighbors import KNeighborsClassifier"
      ],
      "execution_count": 112,
      "outputs": []
    },
    {
      "cell_type": "code",
      "metadata": {
        "id": "-KEJ1BB8a5xQ"
      },
      "source": [
        "# Implement various classification models such as SVM, Logistic regression, Decision tree and KNN, respectively.\n",
        "# Note all models can be obtained from sklearn \n",
        "clf1 = SVC(kernel='linear') \n",
        "clf2 = LogisticRegression()\n",
        "clf3 = DecisionTreeClassifier(criterion=\"gini\")\n",
        "clf4 = KNeighborsClassifier(n_neighbors=3)"
      ],
      "execution_count": 113,
      "outputs": []
    },
    {
      "cell_type": "code",
      "metadata": {
        "id": "jOIhehoYbSsJ",
        "outputId": "3155d042-8990-42f7-c445-59742a831b0b",
        "colab": {
          "base_uri": "https://localhost:8080/"
        }
      },
      "source": [
        "# Train and test the models\n",
        "clf1.fit(X, y)\n",
        "clf2.fit(X, y)\n",
        "clf3.fit(X, y)\n",
        "clf4.fit(X, y)"
      ],
      "execution_count": 114,
      "outputs": [
        {
          "output_type": "execute_result",
          "data": {
            "text/plain": [
              "KNeighborsClassifier(algorithm='auto', leaf_size=30, metric='minkowski',\n",
              "                     metric_params=None, n_jobs=None, n_neighbors=3, p=2,\n",
              "                     weights='uniform')"
            ]
          },
          "metadata": {
            "tags": []
          },
          "execution_count": 114
        }
      ]
    },
    {
      "cell_type": "code",
      "metadata": {
        "id": "CE7CGhDj6SIZ"
      },
      "source": [
        "pred1_t1 = clf1.predict(X)\n",
        "\n",
        "pred2_t1 = clf2.predict(X)\n",
        "\n",
        "pred3_t1 = clf3.predict(X)\n",
        "\n",
        "pred4_t1 = clf4.predict(X)\n"
      ],
      "execution_count": 115,
      "outputs": []
    },
    {
      "cell_type": "code",
      "metadata": {
        "id": "R2sTAUtV6jGj"
      },
      "source": [
        "acc1_t1 = accuracy_score(y, pred1_t1)\n",
        "\n",
        "acc2_t1 = accuracy_score(y, pred2_t1)\n",
        "\n",
        "acc3_t1 = accuracy_score(y, pred3_t1)\n",
        "\n",
        "acc4_t1 = accuracy_score(y, pred4_t1)\n"
      ],
      "execution_count": 116,
      "outputs": []
    },
    {
      "cell_type": "code",
      "metadata": {
        "id": "dij3CU2q61_M",
        "outputId": "d43df864-e18c-436f-fab1-4da5f9fa1be5",
        "colab": {
          "base_uri": "https://localhost:8080/"
        }
      },
      "source": [
        "print(\"Training Accuracy (SVM):\",acc1_t1)\n",
        "\n",
        "print(\"Training Accuracy (Logistic Regression):\",acc2_t1)\n",
        "\n",
        "print(\"Training Accuracy (Decision Tree):\",acc3_t1)\n",
        "\n",
        "print(\"Training Accuracy (KNN):\",acc4_t1)\n"
      ],
      "execution_count": 117,
      "outputs": [
        {
          "output_type": "stream",
          "text": [
            "Training Accuracy (SVM): 1.0\n",
            "Training Accuracy (Logistic Regression): 1.0\n",
            "Training Accuracy (Decision Tree): 1.0\n",
            "Training Accuracy (KNN): 1.0\n"
          ],
          "name": "stdout"
        }
      ]
    },
    {
      "cell_type": "markdown",
      "metadata": {
        "id": "9hZF7xcjbdAF"
      },
      "source": [
        "## Task 2: Ensembling of classificatino models"
      ]
    },
    {
      "cell_type": "code",
      "metadata": {
        "id": "1DSX6JMEbfss",
        "outputId": "622b4d69-658e-45fd-d964-5787ec05a273",
        "colab": {
          "base_uri": "https://localhost:8080/"
        }
      },
      "source": [
        "# Obtain the results of various models from Task 1\n",
        "estimators = []\n",
        "estimators.append(('SVM', clf1))\n",
        "estimators.append(('Logistic Regression', clf2))\n",
        "estimators.append(('Decision Tree', clf3))\n",
        "estimators.append(('KNN', clf4))\n",
        "estimators"
      ],
      "execution_count": 118,
      "outputs": [
        {
          "output_type": "execute_result",
          "data": {
            "text/plain": [
              "[('SVM',\n",
              "  SVC(C=1.0, break_ties=False, cache_size=200, class_weight=None, coef0=0.0,\n",
              "      decision_function_shape='ovr', degree=3, gamma='scale', kernel='linear',\n",
              "      max_iter=-1, probability=False, random_state=None, shrinking=True,\n",
              "      tol=0.001, verbose=False)),\n",
              " ('Logistic Regression',\n",
              "  LogisticRegression(C=1.0, class_weight=None, dual=False, fit_intercept=True,\n",
              "                     intercept_scaling=1, l1_ratio=None, max_iter=100,\n",
              "                     multi_class='auto', n_jobs=None, penalty='l2',\n",
              "                     random_state=None, solver='lbfgs', tol=0.0001, verbose=0,\n",
              "                     warm_start=False)),\n",
              " ('Decision Tree',\n",
              "  DecisionTreeClassifier(ccp_alpha=0.0, class_weight=None, criterion='gini',\n",
              "                         max_depth=None, max_features=None, max_leaf_nodes=None,\n",
              "                         min_impurity_decrease=0.0, min_impurity_split=None,\n",
              "                         min_samples_leaf=1, min_samples_split=2,\n",
              "                         min_weight_fraction_leaf=0.0, presort='deprecated',\n",
              "                         random_state=None, splitter='best')),\n",
              " ('KNN',\n",
              "  KNeighborsClassifier(algorithm='auto', leaf_size=30, metric='minkowski',\n",
              "                       metric_params=None, n_jobs=None, n_neighbors=3, p=2,\n",
              "                       weights='uniform'))]"
            ]
          },
          "metadata": {
            "tags": []
          },
          "execution_count": 118
        }
      ]
    },
    {
      "cell_type": "code",
      "metadata": {
        "id": "C2j-JkT18w_o"
      },
      "source": [
        "from sklearn.ensemble import VotingClassifier"
      ],
      "execution_count": 119,
      "outputs": []
    },
    {
      "cell_type": "code",
      "metadata": {
        "id": "2yqNwnVCbkxG",
        "outputId": "2b3c22e7-aea2-4405-e12f-6320419f67a5",
        "colab": {
          "base_uri": "https://localhost:8080/"
        }
      },
      "source": [
        "# Apply ensembling of various classification models such as SVM, Logistic regression, Decision tree and KNN\n",
        "ensemble = VotingClassifier(estimators)\n",
        "ensemble.fit(X, y)"
      ],
      "execution_count": 120,
      "outputs": [
        {
          "output_type": "execute_result",
          "data": {
            "text/plain": [
              "VotingClassifier(estimators=[('SVM',\n",
              "                              SVC(C=1.0, break_ties=False, cache_size=200,\n",
              "                                  class_weight=None, coef0=0.0,\n",
              "                                  decision_function_shape='ovr', degree=3,\n",
              "                                  gamma='scale', kernel='linear', max_iter=-1,\n",
              "                                  probability=False, random_state=None,\n",
              "                                  shrinking=True, tol=0.001, verbose=False)),\n",
              "                             ('Logistic Regression',\n",
              "                              LogisticRegression(C=1.0, class_weight=None,\n",
              "                                                 dual=False, fit_interc...\n",
              "                                                     min_impurity_split=None,\n",
              "                                                     min_samples_leaf=1,\n",
              "                                                     min_samples_split=2,\n",
              "                                                     min_weight_fraction_leaf=0.0,\n",
              "                                                     presort='deprecated',\n",
              "                                                     random_state=None,\n",
              "                                                     splitter='best')),\n",
              "                             ('KNN',\n",
              "                              KNeighborsClassifier(algorithm='auto',\n",
              "                                                   leaf_size=30,\n",
              "                                                   metric='minkowski',\n",
              "                                                   metric_params=None,\n",
              "                                                   n_jobs=None, n_neighbors=3,\n",
              "                                                   p=2, weights='uniform'))],\n",
              "                 flatten_transform=True, n_jobs=None, voting='hard',\n",
              "                 weights=None)"
            ]
          },
          "metadata": {
            "tags": []
          },
          "execution_count": 120
        }
      ]
    },
    {
      "cell_type": "code",
      "metadata": {
        "id": "kOwn-u3h858l"
      },
      "source": [
        "pred_t1 = ensemble.predict(X)"
      ],
      "execution_count": 121,
      "outputs": []
    },
    {
      "cell_type": "code",
      "metadata": {
        "id": "JDW2P2UF9DvF"
      },
      "source": [
        "acc_t1 = accuracy_score(y, pred_t1)"
      ],
      "execution_count": 122,
      "outputs": []
    },
    {
      "cell_type": "code",
      "metadata": {
        "id": "gmRE3kho9Lj1",
        "outputId": "c9988e71-0f3d-4de9-d5cd-2aa7cf866211",
        "colab": {
          "base_uri": "https://localhost:8080/"
        }
      },
      "source": [
        "print(\"Training Accuracy (Ensemble):\",acc_t1)"
      ],
      "execution_count": 123,
      "outputs": [
        {
          "output_type": "stream",
          "text": [
            "Training Accuracy (Ensemble): 1.0\n"
          ],
          "name": "stdout"
        }
      ]
    },
    {
      "cell_type": "code",
      "metadata": {
        "id": "GHOGKAXiCsSN"
      },
      "source": [
        "# Build training analysis graphs for various parameters i.e., accuracy, precision, recall and f-measure for all models.  \n",
        "precision1, recall1, fscore1, _ = precision_recall_fscore_support(y, pred1_t1, average='weighted')\n",
        "precision2, recall2, fscore2, _ = precision_recall_fscore_support(y, pred2_t1, average='weighted')\n",
        "precision3, recall3, fscore3, _ = precision_recall_fscore_support(y, pred3_t1, average='weighted')\n",
        "precision4, recall4, fscore4, _ = precision_recall_fscore_support(y, pred4_t1, average='weighted')"
      ],
      "execution_count": 124,
      "outputs": []
    },
    {
      "cell_type": "code",
      "metadata": {
        "id": "JCZDpUK3-IBo",
        "outputId": "62662c65-5843-4ede-eee9-877e346001d2",
        "colab": {
          "base_uri": "https://localhost:8080/"
        }
      },
      "source": [
        "print('Training Analysis - \\n')\n",
        "Model = ['SVM','Logistic Regression','Decision Tree','KNN']\n",
        "for i in range(4):\n",
        "    print(Model[i]+\" Precision: \"+str(vars()['precision' + str(i+1)]))\n",
        "    print(Model[i]+\" Recall: \"+str(vars()['recall' + str(i+1)]))\n",
        "    print(Model[i]+\" F-Score: \"+str(vars()['fscore' + str(i+1)]))\n",
        "    print()"
      ],
      "execution_count": 125,
      "outputs": [
        {
          "output_type": "stream",
          "text": [
            "Training Analysis - \n",
            "\n",
            "SVM Precision: 1.0\n",
            "SVM Recall: 1.0\n",
            "SVM F-Score: 1.0\n",
            "\n",
            "Logistic Regression Precision: 1.0\n",
            "Logistic Regression Recall: 1.0\n",
            "Logistic Regression F-Score: 1.0\n",
            "\n",
            "Decision Tree Precision: 1.0\n",
            "Decision Tree Recall: 1.0\n",
            "Decision Tree F-Score: 1.0\n",
            "\n",
            "KNN Precision: 1.0\n",
            "KNN Recall: 1.0\n",
            "KNN F-Score: 1.0\n",
            "\n"
          ],
          "name": "stdout"
        }
      ]
    },
    {
      "cell_type": "code",
      "metadata": {
        "id": "nmsBE0pIAswX",
        "outputId": "2a3caee4-c215-4f5b-eabb-308e8e8722f3",
        "colab": {
          "base_uri": "https://localhost:8080/",
          "height": 283
        }
      },
      "source": [
        "barWidth = 0.25\n",
        "\n",
        "bars1 = [precision1, precision2, precision3, precision4]\n",
        "bars2 = [recall1, recall2, recall3, recall4]\n",
        "bars3 = [fscore1, fscore2, fscore3, fscore4]\n",
        "bars4 = [acc1_t1, acc2_t1, acc3_t1, acc4_t1]\n",
        "\n",
        "r1 = np.arange(len(bars1))\n",
        "r2 = [x + barWidth for x in r1]\n",
        "r3 = [x + barWidth for x in r2]\n",
        "r4 = [x + barWidth for x in r3]\n",
        "\n",
        "plt.bar(r1, bars1, color='#003f5c', width=barWidth, edgecolor='white', label='Precision')\n",
        "plt.bar(r2, bars2, color='#58508d', width=barWidth, edgecolor='white', label='Recall')\n",
        "plt.bar(r3, bars3, color='#bc5090', width=barWidth, edgecolor='white', label='F1-Score')\n",
        "plt.bar(r4, bars4, color='#ff6361', width=barWidth, edgecolor='white', label='Accuracy')\n",
        "\n",
        "plt.xlabel('Comparison Based on Evaluation Metrics (Training Analysis)', fontweight='bold')\n",
        "plt.xticks([r + barWidth for r in range(len(bars1))], ['SVM', 'LR', 'Decision Tree', 'KNN'])\n",
        "plt.ylim((0.99, 1)) \n",
        "plt.legend()\n",
        "plt.show()"
      ],
      "execution_count": 126,
      "outputs": [
        {
          "output_type": "display_data",
          "data": {
            "image/png": "[encoded data removed]",
            "text/plain": [
              "<Figure size 432x288 with 1 Axes>"
            ]
          },
          "metadata": {
            "tags": [],
            "needs_background": "light"
          }
        }
      ]
    },
    {
      "cell_type": "code",
      "metadata": {
        "id": "Kh8NGtH9DeKD"
      },
      "source": [
        "precision1, recall1, fscore1, _ = precision_recall_fscore_support(y, pred_t1, average='weighted')"
      ],
      "execution_count": 127,
      "outputs": []
    },
    {
      "cell_type": "code",
      "metadata": {
        "id": "IH5dm5xqD1rX",
        "outputId": "c00e6371-41de-4f60-fc0c-07ac668164e4",
        "colab": {
          "base_uri": "https://localhost:8080/"
        }
      },
      "source": [
        "print('Ensemble Model Analysis - \\n')\n",
        "Model = ['Training','Testing']\n",
        "for i in range(1):\n",
        "    print(Model[i]+\" Precision: \"+str(vars()['precision' + str(i+1)]))\n",
        "    print(Model[i]+\" Recall: \"+str(vars()['recall' + str(i+1)]))\n",
        "    print(Model[i]+\" F-Score: \"+str(vars()['fscore' + str(i+1)]))\n",
        "    print()"
      ],
      "execution_count": 128,
      "outputs": [
        {
          "output_type": "stream",
          "text": [
            "Ensemble Model Analysis - \n",
            "\n",
            "Training Precision: 1.0\n",
            "Training Recall: 1.0\n",
            "Training F-Score: 1.0\n",
            "\n"
          ],
          "name": "stdout"
        }
      ]
    },
    {
      "cell_type": "code",
      "metadata": {
        "id": "zwS4QcpZHnCp"
      },
      "source": [
        "from sklearn.externals import joblib "
      ],
      "execution_count": 129,
      "outputs": []
    },
    {
      "cell_type": "code",
      "metadata": {
        "id": "eq2TqV3cHnLA"
      },
      "source": [
        "joblib.dump(ensemble, 'memory.pkl') \n",
        "\n",
        "loaded_model = joblib.load('memory.pkl')  \n",
        "  \n",
        "# Use the loaded model to make predictions \n",
        "\n"
      ],
      "execution_count": 130,
      "outputs": []
    },
    {
      "cell_type": "code",
      "metadata": {
        "id": "ChBdiKj-HnJL"
      },
      "source": [
        "final = loaded_model.predict(X) "
      ],
      "execution_count": 138,
      "outputs": []
    },
    {
      "cell_type": "code",
      "metadata": {
        "id": "W1nZIDi8L6di"
      },
      "source": [
        "set = pd.read_csv('passage.csv')"
      ],
      "execution_count": 144,
      "outputs": []
    },
    {
      "cell_type": "code",
      "metadata": {
        "id": "5XXeo4KkMK12",
        "outputId": "ff46b4e2-c958-47dc-bebc-53a9a4da2b95",
        "colab": {
          "base_uri": "https://localhost:8080/",
          "height": 195
        }
      },
      "source": [
        "set.head()"
      ],
      "execution_count": 145,
      "outputs": [
        {
          "output_type": "execute_result",
          "data": {
            "text/html": [
              "<div>\n",
              "<style scoped>\n",
              "    .dataframe tbody tr th:only-of-type {\n",
              "        vertical-align: middle;\n",
              "    }\n",
              "\n",
              "    .dataframe tbody tr th {\n",
              "        vertical-align: top;\n",
              "    }\n",
              "\n",
              "    .dataframe thead th {\n",
              "        text-align: right;\n",
              "    }\n",
              "</style>\n",
              "<table border=\"1\" class=\"dataframe\">\n",
              "  <thead>\n",
              "    <tr style=\"text-align: right;\">\n",
              "      <th></th>\n",
              "      <th>Passage</th>\n",
              "      <th>Score</th>\n",
              "      <th>Time</th>\n",
              "      <th>D</th>\n",
              "    </tr>\n",
              "  </thead>\n",
              "  <tbody>\n",
              "    <tr>\n",
              "      <th>0</th>\n",
              "      <td>1</td>\n",
              "      <td>0.0</td>\n",
              "      <td>1</td>\n",
              "      <td>Yes</td>\n",
              "    </tr>\n",
              "    <tr>\n",
              "      <th>1</th>\n",
              "      <td>1</td>\n",
              "      <td>0.0</td>\n",
              "      <td>2</td>\n",
              "      <td>Yes</td>\n",
              "    </tr>\n",
              "    <tr>\n",
              "      <th>2</th>\n",
              "      <td>1</td>\n",
              "      <td>0.0</td>\n",
              "      <td>4</td>\n",
              "      <td>Yes</td>\n",
              "    </tr>\n",
              "    <tr>\n",
              "      <th>3</th>\n",
              "      <td>1</td>\n",
              "      <td>0.0</td>\n",
              "      <td>6</td>\n",
              "      <td>Yes</td>\n",
              "    </tr>\n",
              "    <tr>\n",
              "      <th>4</th>\n",
              "      <td>1</td>\n",
              "      <td>0.0</td>\n",
              "      <td>8</td>\n",
              "      <td>Yes</td>\n",
              "    </tr>\n",
              "  </tbody>\n",
              "</table>\n",
              "</div>"
            ],
            "text/plain": [
              "   Passage  Score  Time    D\n",
              "0        1    0.0     1  Yes\n",
              "1        1    0.0     2  Yes\n",
              "2        1    0.0     4  Yes\n",
              "3        1    0.0     6  Yes\n",
              "4        1    0.0     8  Yes"
            ]
          },
          "metadata": {
            "tags": []
          },
          "execution_count": 145
        }
      ]
    },
    {
      "cell_type": "code",
      "metadata": {
        "id": "g1CvlAw_Mezx"
      },
      "source": [
        "for i in ['D']:\n",
        "    set[i] = LE.fit_transform(set[i])"
      ],
      "execution_count": 148,
      "outputs": []
    },
    {
      "cell_type": "code",
      "metadata": {
        "id": "7RJ1Q6UdMqwW",
        "outputId": "55dd3915-ad4f-4274-cdf0-317c43be80d2",
        "colab": {
          "base_uri": "https://localhost:8080/",
          "height": 195
        }
      },
      "source": [
        "set.head()"
      ],
      "execution_count": 149,
      "outputs": [
        {
          "output_type": "execute_result",
          "data": {
            "text/html": [
              "<div>\n",
              "<style scoped>\n",
              "    .dataframe tbody tr th:only-of-type {\n",
              "        vertical-align: middle;\n",
              "    }\n",
              "\n",
              "    .dataframe tbody tr th {\n",
              "        vertical-align: top;\n",
              "    }\n",
              "\n",
              "    .dataframe thead th {\n",
              "        text-align: right;\n",
              "    }\n",
              "</style>\n",
              "<table border=\"1\" class=\"dataframe\">\n",
              "  <thead>\n",
              "    <tr style=\"text-align: right;\">\n",
              "      <th></th>\n",
              "      <th>Passage</th>\n",
              "      <th>Score</th>\n",
              "      <th>Time</th>\n",
              "      <th>D</th>\n",
              "    </tr>\n",
              "  </thead>\n",
              "  <tbody>\n",
              "    <tr>\n",
              "      <th>0</th>\n",
              "      <td>1</td>\n",
              "      <td>0.0</td>\n",
              "      <td>1</td>\n",
              "      <td>2</td>\n",
              "    </tr>\n",
              "    <tr>\n",
              "      <th>1</th>\n",
              "      <td>1</td>\n",
              "      <td>0.0</td>\n",
              "      <td>2</td>\n",
              "      <td>2</td>\n",
              "    </tr>\n",
              "    <tr>\n",
              "      <th>2</th>\n",
              "      <td>1</td>\n",
              "      <td>0.0</td>\n",
              "      <td>4</td>\n",
              "      <td>2</td>\n",
              "    </tr>\n",
              "    <tr>\n",
              "      <th>3</th>\n",
              "      <td>1</td>\n",
              "      <td>0.0</td>\n",
              "      <td>6</td>\n",
              "      <td>2</td>\n",
              "    </tr>\n",
              "    <tr>\n",
              "      <th>4</th>\n",
              "      <td>1</td>\n",
              "      <td>0.0</td>\n",
              "      <td>8</td>\n",
              "      <td>2</td>\n",
              "    </tr>\n",
              "  </tbody>\n",
              "</table>\n",
              "</div>"
            ],
            "text/plain": [
              "   Passage  Score  Time  D\n",
              "0        1    0.0     1  2\n",
              "1        1    0.0     2  2\n",
              "2        1    0.0     4  2\n",
              "3        1    0.0     6  2\n",
              "4        1    0.0     8  2"
            ]
          },
          "metadata": {
            "tags": []
          },
          "execution_count": 149
        }
      ]
    },
    {
      "cell_type": "code",
      "metadata": {
        "id": "tdw76HLVM6aW"
      },
      "source": [
        "final = loaded_model.predict(X) "
      ],
      "execution_count": 157,
      "outputs": []
    },
    {
      "cell_type": "code",
      "metadata": {
        "id": "nPtePpnXLvTz"
      },
      "source": [
        "acc = accuracy_score(y, final)"
      ],
      "execution_count": 158,
      "outputs": []
    },
    {
      "cell_type": "code",
      "metadata": {
        "id": "N7asTmyRRB0e",
        "outputId": "12a05862-1e61-41d1-bf38-029c4083a98b",
        "colab": {
          "base_uri": "https://localhost:8080/"
        }
      },
      "source": [
        "mm.data_max_"
      ],
      "execution_count": 195,
      "outputs": [
        {
          "output_type": "execute_result",
          "data": {
            "text/plain": [
              "array([ 7., 10., 10.])"
            ]
          },
          "metadata": {
            "tags": []
          },
          "execution_count": 195
        }
      ]
    },
    {
      "cell_type": "code",
      "metadata": {
        "id": "UpeJrFwzRHw9",
        "outputId": "dbfb1055-e2b5-42b3-870c-d3d7e90e263d",
        "colab": {
          "base_uri": "https://localhost:8080/"
        }
      },
      "source": [
        "mm.data_min_"
      ],
      "execution_count": 196,
      "outputs": [
        {
          "output_type": "execute_result",
          "data": {
            "text/plain": [
              "array([1., 0., 1.])"
            ]
          },
          "metadata": {
            "tags": []
          },
          "execution_count": 196
        }
      ]
    },
    {
      "cell_type": "code",
      "metadata": {
        "id": "lyzLrRI-L3AU"
      },
      "source": [
        "mm.data_max_ = np.array([2., 5., 5.])"
      ],
      "execution_count": 163,
      "outputs": []
    },
    {
      "cell_type": "code",
      "metadata": {
        "id": "DBQLyCVaRmuY",
        "outputId": "11ac2c80-8baa-4e4a-df61-bcb5d4c9053e",
        "colab": {
          "base_uri": "https://localhost:8080/"
        }
      },
      "source": [
        "mm.data_min_"
      ],
      "execution_count": 165,
      "outputs": [
        {
          "output_type": "execute_result",
          "data": {
            "text/plain": [
              "array([1., 0., 1.])"
            ]
          },
          "metadata": {
            "tags": []
          },
          "execution_count": 165
        }
      ]
    },
    {
      "cell_type": "code",
      "metadata": {
        "id": "p4Htw1xzR9XZ"
      },
      "source": [
        "def func():\n",
        "  return mm"
      ],
      "execution_count": 197,
      "outputs": []
    },
    {
      "cell_type": "code",
      "metadata": {
        "id": "xv32fF5xSCNE"
      },
      "source": [
        "m = func()"
      ],
      "execution_count": 198,
      "outputs": []
    },
    {
      "cell_type": "code",
      "metadata": {
        "id": "6dXXNohPSHSn",
        "outputId": "a839e326-011b-4a78-fec9-cb3300e645c8",
        "colab": {
          "base_uri": "https://localhost:8080/"
        }
      },
      "source": [
        "m.data_min_"
      ],
      "execution_count": 199,
      "outputs": [
        {
          "output_type": "execute_result",
          "data": {
            "text/plain": [
              "array([1., 0., 1.])"
            ]
          },
          "metadata": {
            "tags": []
          },
          "execution_count": 199
        }
      ]
    },
    {
      "cell_type": "code",
      "metadata": {
        "id": "YX2dOCcFSKKm"
      },
      "source": [
        "m.data_max_ = np.array([ 7., 10., 10.])"
      ],
      "execution_count": 200,
      "outputs": []
    },
    {
      "cell_type": "code",
      "metadata": {
        "id": "GTNiXXKmSPwc"
      },
      "source": [
        "t = m.transform([[7, 4, 10]])"
      ],
      "execution_count": 203,
      "outputs": []
    },
    {
      "cell_type": "code",
      "metadata": {
        "id": "e9hRf9moSkOF",
        "outputId": "03ad91f5-c14f-4512-dc47-fab73332bc80",
        "colab": {
          "base_uri": "https://localhost:8080/"
        }
      },
      "source": [
        "t"
      ],
      "execution_count": 204,
      "outputs": [
        {
          "output_type": "execute_result",
          "data": {
            "text/plain": [
              "array([[1. , 0.4, 1. ]])"
            ]
          },
          "metadata": {
            "tags": []
          },
          "execution_count": 204
        }
      ]
    },
    {
      "cell_type": "code",
      "metadata": {
        "id": "tlxIzvFZUBcM",
        "outputId": "8f1dd96b-4a92-414c-cbc3-7aae5e081c14",
        "colab": {
          "base_uri": "https://localhost:8080/"
        }
      },
      "source": [
        "loaded_model.predict(t)"
      ],
      "execution_count": 206,
      "outputs": [
        {
          "output_type": "execute_result",
          "data": {
            "text/plain": [
              "array([0])"
            ]
          },
          "metadata": {
            "tags": []
          },
          "execution_count": 206
        }
      ]
    },
    {
      "cell_type": "code",
      "metadata": {
        "id": "GCV9QKFnJhui",
        "outputId": "943977e1-f63d-4b9e-c6b2-8702c6b6cd43",
        "colab": {
          "base_uri": "https://localhost:8080/"
        }
      },
      "source": [
        "final"
      ],
      "execution_count": 142,
      "outputs": [
        {
          "output_type": "execute_result",
          "data": {
            "text/plain": [
              "array([0, 0, 2, 0, 1, 1, 2, 0, 2, 0, 1, 1, 2, 1, 1, 0, 1, 2, 1, 1, 1, 2,\n",
              "       0, 1, 2, 1, 1, 2, 2, 1, 2, 2, 0, 1, 0, 2, 0, 2, 1, 1, 0, 0, 2, 0,\n",
              "       1, 2, 2, 1, 1, 2, 0, 0, 0, 1, 1, 1, 1, 0, 0, 2, 0, 2, 0, 0, 1, 2,\n",
              "       0, 1, 0, 1, 0, 0, 0, 1, 2, 1, 2, 2, 0, 0, 2, 0, 1, 1, 1, 2, 1, 1,\n",
              "       2, 1, 2, 2, 1, 0, 2, 2, 2, 1, 0, 2, 2, 0, 2, 2, 2, 0, 0, 1, 1, 2,\n",
              "       1, 2, 0, 1, 1, 2, 0, 2, 0, 2, 0, 2, 2, 0, 2, 1, 0, 1, 0, 1, 0, 2,\n",
              "       1, 0, 2, 2, 2, 1, 0, 1, 1, 2, 2, 1, 2, 1, 1, 0, 1, 2, 0, 2, 2, 2,\n",
              "       1, 0, 1, 2, 0, 0, 0, 0, 0, 2, 1, 1, 0, 1, 1, 1, 1, 1, 0, 0, 2, 2,\n",
              "       2, 1, 2, 0, 1, 0, 0, 2, 1, 2, 0, 0, 1, 0, 1, 2, 2, 1, 1, 2, 2, 1,\n",
              "       1, 1, 2, 0, 2, 0, 1, 0, 2, 0, 2, 1, 2, 1, 2, 2, 0, 2, 1, 0, 1, 0,\n",
              "       0, 1, 2, 2, 2, 0, 1, 0, 0, 0, 0, 1, 2, 1, 2, 1, 1, 2, 2, 0, 2, 2,\n",
              "       0, 0, 1, 0])"
            ]
          },
          "metadata": {
            "tags": []
          },
          "execution_count": 142
        }
      ]
    },
    {
      "cell_type": "code",
      "metadata": {
        "id": "4mQadAwuHnHX"
      },
      "source": [
        "if(final[0]==0):\n",
        "  mem = 'Mild'\n",
        "elif(final[0]==1):\n",
        "  mem = 'No'\n",
        "elif(final[0]==2):\n",
        "  mem = 'Yes'"
      ],
      "execution_count": 137,
      "outputs": []
    },
    {
      "cell_type": "code",
      "metadata": {
        "id": "syEpkDD8N_A7",
        "outputId": "e44fd5e5-216c-49cd-ec3b-784d12453548",
        "colab": {
          "base_uri": "https://localhost:8080/",
          "height": 162
        }
      },
      "source": [
        "mm.mean_"
      ],
      "execution_count": 155,
      "outputs": [
        {
          "output_type": "error",
          "ename": "AttributeError",
          "evalue": "ignored",
          "traceback": [
            "\u001b[0;31m---------------------------------------------------------------------------\u001b[0m",
            "\u001b[0;31mAttributeError\u001b[0m                            Traceback (most recent call last)",
            "\u001b[0;32m<ipython-input-155-a695e23873ff>\u001b[0m in \u001b[0;36m<module>\u001b[0;34m()\u001b[0m\n\u001b[0;32m----> 1\u001b[0;31m \u001b[0mmm\u001b[0m\u001b[0;34m.\u001b[0m\u001b[0mmean_\u001b[0m\u001b[0;34m\u001b[0m\u001b[0;34m\u001b[0m\u001b[0m\n\u001b[0m",
            "\u001b[0;31mAttributeError\u001b[0m: 'MinMaxScaler' object has no attribute 'mean_'"
          ]
        }
      ]
    },
    {
      "cell_type": "code",
      "metadata": {
        "id": "BuqShPTNN_EM",
        "outputId": "8c3ca88a-9c19-48fd-abab-c720ee60e144",
        "colab": {
          "base_uri": "https://localhost:8080/"
        }
      },
      "source": [
        "loaded_model.predict([[4,2,10]])"
      ],
      "execution_count": 174,
      "outputs": [
        {
          "output_type": "execute_result",
          "data": {
            "text/plain": [
              "array([1])"
            ]
          },
          "metadata": {
            "tags": []
          },
          "execution_count": 174
        }
      ]
    },
    {
      "cell_type": "code",
      "metadata": {
        "id": "sVriWGX4N_IY"
      },
      "source": [
        ""
      ],
      "execution_count": null,
      "outputs": []
    },
    {
      "cell_type": "code",
      "metadata": {
        "id": "oPd-vgIvN-_f"
      },
      "source": [
        ""
      ],
      "execution_count": null,
      "outputs": []
    },
    {
      "cell_type": "code",
      "metadata": {
        "id": "lPC-jmE_HnA9",
        "outputId": "c3ff3e35-1bcb-4c21-b330-6ffc7ecea24d",
        "colab": {
          "base_uri": "https://localhost:8080/",
          "height": 35
        }
      },
      "source": [
        "mem"
      ],
      "execution_count": 65,
      "outputs": [
        {
          "output_type": "execute_result",
          "data": {
            "application/vnd.google.colaboratory.intrinsic+json": {
              "type": "string"
            },
            "text/plain": [
              "'No'"
            ]
          },
          "metadata": {
            "tags": []
          },
          "execution_count": 65
        }
      ]
    },
    {
      "cell_type": "markdown",
      "metadata": {
        "id": "VkCiUc-mBbv2"
      },
      "source": [
        "# Conclude the results"
      ]
    },
    {
      "cell_type": "markdown",
      "metadata": {
        "id": "J4iJVqyuEovO"
      },
      "source": [
        "We can see that, on an average, the Ensemble model (combination of clf1, clf2, clf3 and clf4) performs better than any other model used on an individual basis (SVM, Logistic Regression, Decision Tree, KNN) in terms of all the classification metrics - Accuracy, Precision, Recall, F-Score."
      ]
    }
  ]
}